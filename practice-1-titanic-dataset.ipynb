{
 "cells": [
  {
   "cell_type": "code",
   "execution_count": 1,
   "id": "8b61c387",
   "metadata": {
    "_cell_guid": "b1076dfc-b9ad-4769-8c92-a6c4dae69d19",
    "_uuid": "8f2839f25d086af736a60e9eeb907d3b93b6e0e5",
    "execution": {
     "iopub.execute_input": "2024-07-21T13:13:28.622170Z",
     "iopub.status.busy": "2024-07-21T13:13:28.621715Z",
     "iopub.status.idle": "2024-07-21T13:13:29.641698Z",
     "shell.execute_reply": "2024-07-21T13:13:29.639780Z"
    },
    "papermill": {
     "duration": 1.049533,
     "end_time": "2024-07-21T13:13:29.644737",
     "exception": false,
     "start_time": "2024-07-21T13:13:28.595204",
     "status": "completed"
    },
    "tags": []
   },
   "outputs": [
    {
     "name": "stdout",
     "output_type": "stream",
     "text": [
      "/kaggle/input/titanic/train.csv\n",
      "/kaggle/input/titanic/test.csv\n",
      "/kaggle/input/titanic/gender_submission.csv\n"
     ]
    }
   ],
   "source": [
    "import numpy as np \n",
    "import pandas as pd\n",
    "\n",
    "# Input data files are available in the read-only \"../input/\" directory\n",
    "# For example, running this (by clicking run or pressing Shift+Enter) will list all files under the input directory\n",
    "\n",
    "import os\n",
    "for dirname, _, filenames in os.walk('/kaggle/input'):\n",
    "    for filename in filenames:\n",
    "        print(os.path.join(dirname, filename))"
   ]
  },
  {
   "cell_type": "code",
   "execution_count": 2,
   "id": "50738e3d",
   "metadata": {
    "execution": {
     "iopub.execute_input": "2024-07-21T13:13:29.685726Z",
     "iopub.status.busy": "2024-07-21T13:13:29.685196Z",
     "iopub.status.idle": "2024-07-21T13:13:31.238498Z",
     "shell.execute_reply": "2024-07-21T13:13:31.237434Z"
    },
    "papermill": {
     "duration": 1.576749,
     "end_time": "2024-07-21T13:13:31.241424",
     "exception": false,
     "start_time": "2024-07-21T13:13:29.664675",
     "status": "completed"
    },
    "tags": []
   },
   "outputs": [],
   "source": [
    "import os\n",
    "import pandas\n",
    "import numpy\n",
    "import matplotlib.pyplot as plt\n",
    "import seaborn as sns\n",
    "sns.set()\n",
    "# from sklearn.preprocessing import "
   ]
  },
  {
   "cell_type": "code",
   "execution_count": 3,
   "id": "9a2b4199",
   "metadata": {
    "execution": {
     "iopub.execute_input": "2024-07-21T13:13:31.280949Z",
     "iopub.status.busy": "2024-07-21T13:13:31.280556Z",
     "iopub.status.idle": "2024-07-21T13:13:31.306639Z",
     "shell.execute_reply": "2024-07-21T13:13:31.305419Z"
    },
    "papermill": {
     "duration": 0.049346,
     "end_time": "2024-07-21T13:13:31.309691",
     "exception": false,
     "start_time": "2024-07-21T13:13:31.260345",
     "status": "completed"
    },
    "tags": []
   },
   "outputs": [],
   "source": [
    "dataset = pd.read_csv(\"/kaggle/input/titanic/train.csv\")"
   ]
  },
  {
   "cell_type": "code",
   "execution_count": 4,
   "id": "63cf401b",
   "metadata": {
    "execution": {
     "iopub.execute_input": "2024-07-21T13:13:31.351115Z",
     "iopub.status.busy": "2024-07-21T13:13:31.350705Z",
     "iopub.status.idle": "2024-07-21T13:13:31.389071Z",
     "shell.execute_reply": "2024-07-21T13:13:31.387785Z"
    },
    "papermill": {
     "duration": 0.061954,
     "end_time": "2024-07-21T13:13:31.391529",
     "exception": false,
     "start_time": "2024-07-21T13:13:31.329575",
     "status": "completed"
    },
    "tags": []
   },
   "outputs": [
    {
     "data": {
      "text/html": [
       "<div>\n",
       "<style scoped>\n",
       "    .dataframe tbody tr th:only-of-type {\n",
       "        vertical-align: middle;\n",
       "    }\n",
       "\n",
       "    .dataframe tbody tr th {\n",
       "        vertical-align: top;\n",
       "    }\n",
       "\n",
       "    .dataframe thead th {\n",
       "        text-align: right;\n",
       "    }\n",
       "</style>\n",
       "<table border=\"1\" class=\"dataframe\">\n",
       "  <thead>\n",
       "    <tr style=\"text-align: right;\">\n",
       "      <th></th>\n",
       "      <th>PassengerId</th>\n",
       "      <th>Survived</th>\n",
       "      <th>Pclass</th>\n",
       "      <th>Name</th>\n",
       "      <th>Sex</th>\n",
       "      <th>Age</th>\n",
       "      <th>SibSp</th>\n",
       "      <th>Parch</th>\n",
       "      <th>Ticket</th>\n",
       "      <th>Fare</th>\n",
       "      <th>Cabin</th>\n",
       "      <th>Embarked</th>\n",
       "    </tr>\n",
       "  </thead>\n",
       "  <tbody>\n",
       "    <tr>\n",
       "      <th>0</th>\n",
       "      <td>1</td>\n",
       "      <td>0</td>\n",
       "      <td>3</td>\n",
       "      <td>Braund, Mr. Owen Harris</td>\n",
       "      <td>male</td>\n",
       "      <td>22.0</td>\n",
       "      <td>1</td>\n",
       "      <td>0</td>\n",
       "      <td>A/5 21171</td>\n",
       "      <td>7.2500</td>\n",
       "      <td>NaN</td>\n",
       "      <td>S</td>\n",
       "    </tr>\n",
       "    <tr>\n",
       "      <th>1</th>\n",
       "      <td>2</td>\n",
       "      <td>1</td>\n",
       "      <td>1</td>\n",
       "      <td>Cumings, Mrs. John Bradley (Florence Briggs Th...</td>\n",
       "      <td>female</td>\n",
       "      <td>38.0</td>\n",
       "      <td>1</td>\n",
       "      <td>0</td>\n",
       "      <td>PC 17599</td>\n",
       "      <td>71.2833</td>\n",
       "      <td>C85</td>\n",
       "      <td>C</td>\n",
       "    </tr>\n",
       "    <tr>\n",
       "      <th>2</th>\n",
       "      <td>3</td>\n",
       "      <td>1</td>\n",
       "      <td>3</td>\n",
       "      <td>Heikkinen, Miss. Laina</td>\n",
       "      <td>female</td>\n",
       "      <td>26.0</td>\n",
       "      <td>0</td>\n",
       "      <td>0</td>\n",
       "      <td>STON/O2. 3101282</td>\n",
       "      <td>7.9250</td>\n",
       "      <td>NaN</td>\n",
       "      <td>S</td>\n",
       "    </tr>\n",
       "    <tr>\n",
       "      <th>3</th>\n",
       "      <td>4</td>\n",
       "      <td>1</td>\n",
       "      <td>1</td>\n",
       "      <td>Futrelle, Mrs. Jacques Heath (Lily May Peel)</td>\n",
       "      <td>female</td>\n",
       "      <td>35.0</td>\n",
       "      <td>1</td>\n",
       "      <td>0</td>\n",
       "      <td>113803</td>\n",
       "      <td>53.1000</td>\n",
       "      <td>C123</td>\n",
       "      <td>S</td>\n",
       "    </tr>\n",
       "    <tr>\n",
       "      <th>4</th>\n",
       "      <td>5</td>\n",
       "      <td>0</td>\n",
       "      <td>3</td>\n",
       "      <td>Allen, Mr. William Henry</td>\n",
       "      <td>male</td>\n",
       "      <td>35.0</td>\n",
       "      <td>0</td>\n",
       "      <td>0</td>\n",
       "      <td>373450</td>\n",
       "      <td>8.0500</td>\n",
       "      <td>NaN</td>\n",
       "      <td>S</td>\n",
       "    </tr>\n",
       "    <tr>\n",
       "      <th>...</th>\n",
       "      <td>...</td>\n",
       "      <td>...</td>\n",
       "      <td>...</td>\n",
       "      <td>...</td>\n",
       "      <td>...</td>\n",
       "      <td>...</td>\n",
       "      <td>...</td>\n",
       "      <td>...</td>\n",
       "      <td>...</td>\n",
       "      <td>...</td>\n",
       "      <td>...</td>\n",
       "      <td>...</td>\n",
       "    </tr>\n",
       "    <tr>\n",
       "      <th>886</th>\n",
       "      <td>887</td>\n",
       "      <td>0</td>\n",
       "      <td>2</td>\n",
       "      <td>Montvila, Rev. Juozas</td>\n",
       "      <td>male</td>\n",
       "      <td>27.0</td>\n",
       "      <td>0</td>\n",
       "      <td>0</td>\n",
       "      <td>211536</td>\n",
       "      <td>13.0000</td>\n",
       "      <td>NaN</td>\n",
       "      <td>S</td>\n",
       "    </tr>\n",
       "    <tr>\n",
       "      <th>887</th>\n",
       "      <td>888</td>\n",
       "      <td>1</td>\n",
       "      <td>1</td>\n",
       "      <td>Graham, Miss. Margaret Edith</td>\n",
       "      <td>female</td>\n",
       "      <td>19.0</td>\n",
       "      <td>0</td>\n",
       "      <td>0</td>\n",
       "      <td>112053</td>\n",
       "      <td>30.0000</td>\n",
       "      <td>B42</td>\n",
       "      <td>S</td>\n",
       "    </tr>\n",
       "    <tr>\n",
       "      <th>888</th>\n",
       "      <td>889</td>\n",
       "      <td>0</td>\n",
       "      <td>3</td>\n",
       "      <td>Johnston, Miss. Catherine Helen \"Carrie\"</td>\n",
       "      <td>female</td>\n",
       "      <td>NaN</td>\n",
       "      <td>1</td>\n",
       "      <td>2</td>\n",
       "      <td>W./C. 6607</td>\n",
       "      <td>23.4500</td>\n",
       "      <td>NaN</td>\n",
       "      <td>S</td>\n",
       "    </tr>\n",
       "    <tr>\n",
       "      <th>889</th>\n",
       "      <td>890</td>\n",
       "      <td>1</td>\n",
       "      <td>1</td>\n",
       "      <td>Behr, Mr. Karl Howell</td>\n",
       "      <td>male</td>\n",
       "      <td>26.0</td>\n",
       "      <td>0</td>\n",
       "      <td>0</td>\n",
       "      <td>111369</td>\n",
       "      <td>30.0000</td>\n",
       "      <td>C148</td>\n",
       "      <td>C</td>\n",
       "    </tr>\n",
       "    <tr>\n",
       "      <th>890</th>\n",
       "      <td>891</td>\n",
       "      <td>0</td>\n",
       "      <td>3</td>\n",
       "      <td>Dooley, Mr. Patrick</td>\n",
       "      <td>male</td>\n",
       "      <td>32.0</td>\n",
       "      <td>0</td>\n",
       "      <td>0</td>\n",
       "      <td>370376</td>\n",
       "      <td>7.7500</td>\n",
       "      <td>NaN</td>\n",
       "      <td>Q</td>\n",
       "    </tr>\n",
       "  </tbody>\n",
       "</table>\n",
       "<p>891 rows × 12 columns</p>\n",
       "</div>"
      ],
      "text/plain": [
       "     PassengerId  Survived  Pclass  \\\n",
       "0              1         0       3   \n",
       "1              2         1       1   \n",
       "2              3         1       3   \n",
       "3              4         1       1   \n",
       "4              5         0       3   \n",
       "..           ...       ...     ...   \n",
       "886          887         0       2   \n",
       "887          888         1       1   \n",
       "888          889         0       3   \n",
       "889          890         1       1   \n",
       "890          891         0       3   \n",
       "\n",
       "                                                  Name     Sex   Age  SibSp  \\\n",
       "0                              Braund, Mr. Owen Harris    male  22.0      1   \n",
       "1    Cumings, Mrs. John Bradley (Florence Briggs Th...  female  38.0      1   \n",
       "2                               Heikkinen, Miss. Laina  female  26.0      0   \n",
       "3         Futrelle, Mrs. Jacques Heath (Lily May Peel)  female  35.0      1   \n",
       "4                             Allen, Mr. William Henry    male  35.0      0   \n",
       "..                                                 ...     ...   ...    ...   \n",
       "886                              Montvila, Rev. Juozas    male  27.0      0   \n",
       "887                       Graham, Miss. Margaret Edith  female  19.0      0   \n",
       "888           Johnston, Miss. Catherine Helen \"Carrie\"  female   NaN      1   \n",
       "889                              Behr, Mr. Karl Howell    male  26.0      0   \n",
       "890                                Dooley, Mr. Patrick    male  32.0      0   \n",
       "\n",
       "     Parch            Ticket     Fare Cabin Embarked  \n",
       "0        0         A/5 21171   7.2500   NaN        S  \n",
       "1        0          PC 17599  71.2833   C85        C  \n",
       "2        0  STON/O2. 3101282   7.9250   NaN        S  \n",
       "3        0            113803  53.1000  C123        S  \n",
       "4        0            373450   8.0500   NaN        S  \n",
       "..     ...               ...      ...   ...      ...  \n",
       "886      0            211536  13.0000   NaN        S  \n",
       "887      0            112053  30.0000   B42        S  \n",
       "888      2        W./C. 6607  23.4500   NaN        S  \n",
       "889      0            111369  30.0000  C148        C  \n",
       "890      0            370376   7.7500   NaN        Q  \n",
       "\n",
       "[891 rows x 12 columns]"
      ]
     },
     "execution_count": 4,
     "metadata": {},
     "output_type": "execute_result"
    }
   ],
   "source": [
    "dataset"
   ]
  },
  {
   "cell_type": "code",
   "execution_count": 5,
   "id": "23193b22",
   "metadata": {
    "execution": {
     "iopub.execute_input": "2024-07-21T13:13:31.435337Z",
     "iopub.status.busy": "2024-07-21T13:13:31.434935Z",
     "iopub.status.idle": "2024-07-21T13:13:31.442492Z",
     "shell.execute_reply": "2024-07-21T13:13:31.441332Z"
    },
    "papermill": {
     "duration": 0.033544,
     "end_time": "2024-07-21T13:13:31.445150",
     "exception": false,
     "start_time": "2024-07-21T13:13:31.411606",
     "status": "completed"
    },
    "tags": []
   },
   "outputs": [
    {
     "data": {
      "text/plain": [
       "Index(['PassengerId', 'Survived', 'Pclass', 'Name', 'Sex', 'Age', 'SibSp',\n",
       "       'Parch', 'Ticket', 'Fare', 'Cabin', 'Embarked'],\n",
       "      dtype='object')"
      ]
     },
     "execution_count": 5,
     "metadata": {},
     "output_type": "execute_result"
    }
   ],
   "source": [
    "dataset.columns"
   ]
  },
  {
   "cell_type": "code",
   "execution_count": 6,
   "id": "b87b340d",
   "metadata": {
    "execution": {
     "iopub.execute_input": "2024-07-21T13:13:31.486680Z",
     "iopub.status.busy": "2024-07-21T13:13:31.485540Z",
     "iopub.status.idle": "2024-07-21T13:13:31.504352Z",
     "shell.execute_reply": "2024-07-21T13:13:31.503218Z"
    },
    "papermill": {
     "duration": 0.042286,
     "end_time": "2024-07-21T13:13:31.506990",
     "exception": false,
     "start_time": "2024-07-21T13:13:31.464704",
     "status": "completed"
    },
    "tags": []
   },
   "outputs": [
    {
     "data": {
      "text/plain": [
       "['Age',\n",
       " 'Cabin',\n",
       " 'Embarked',\n",
       " 'Fare',\n",
       " 'Name',\n",
       " 'Parch',\n",
       " 'PassengerId',\n",
       " 'Pclass',\n",
       " 'Sex',\n",
       " 'SibSp',\n",
       " 'Survived',\n",
       " 'T',\n",
       " 'Ticket',\n",
       " '_AXIS_LEN',\n",
       " '_AXIS_ORDERS',\n",
       " '_AXIS_TO_AXIS_NUMBER',\n",
       " '_HANDLED_TYPES',\n",
       " '__abs__',\n",
       " '__add__',\n",
       " '__and__',\n",
       " '__annotations__',\n",
       " '__array__',\n",
       " '__array_priority__',\n",
       " '__array_ufunc__',\n",
       " '__arrow_c_stream__',\n",
       " '__bool__',\n",
       " '__class__',\n",
       " '__contains__',\n",
       " '__copy__',\n",
       " '__dataframe__',\n",
       " '__dataframe_consortium_standard__',\n",
       " '__deepcopy__',\n",
       " '__delattr__',\n",
       " '__delitem__',\n",
       " '__dict__',\n",
       " '__dir__',\n",
       " '__divmod__',\n",
       " '__doc__',\n",
       " '__eq__',\n",
       " '__finalize__',\n",
       " '__floordiv__',\n",
       " '__format__',\n",
       " '__ge__',\n",
       " '__getattr__',\n",
       " '__getattribute__',\n",
       " '__getitem__',\n",
       " '__getstate__',\n",
       " '__gt__',\n",
       " '__hash__',\n",
       " '__iadd__',\n",
       " '__iand__',\n",
       " '__ifloordiv__',\n",
       " '__imod__',\n",
       " '__imul__',\n",
       " '__init__',\n",
       " '__init_subclass__',\n",
       " '__invert__',\n",
       " '__ior__',\n",
       " '__ipow__',\n",
       " '__isub__',\n",
       " '__iter__',\n",
       " '__itruediv__',\n",
       " '__ixor__',\n",
       " '__le__',\n",
       " '__len__',\n",
       " '__lt__',\n",
       " '__matmul__',\n",
       " '__mod__',\n",
       " '__module__',\n",
       " '__mul__',\n",
       " '__ne__',\n",
       " '__neg__',\n",
       " '__new__',\n",
       " '__nonzero__',\n",
       " '__or__',\n",
       " '__pandas_priority__',\n",
       " '__pos__',\n",
       " '__pow__',\n",
       " '__radd__',\n",
       " '__rand__',\n",
       " '__rdivmod__',\n",
       " '__reduce__',\n",
       " '__reduce_ex__',\n",
       " '__repr__',\n",
       " '__rfloordiv__',\n",
       " '__rmatmul__',\n",
       " '__rmod__',\n",
       " '__rmul__',\n",
       " '__ror__',\n",
       " '__round__',\n",
       " '__rpow__',\n",
       " '__rsub__',\n",
       " '__rtruediv__',\n",
       " '__rxor__',\n",
       " '__setattr__',\n",
       " '__setitem__',\n",
       " '__setstate__',\n",
       " '__sizeof__',\n",
       " '__str__',\n",
       " '__sub__',\n",
       " '__subclasshook__',\n",
       " '__truediv__',\n",
       " '__weakref__',\n",
       " '__xor__',\n",
       " '_accessors',\n",
       " '_accum_func',\n",
       " '_agg_examples_doc',\n",
       " '_agg_see_also_doc',\n",
       " '_align_for_op',\n",
       " '_align_frame',\n",
       " '_align_series',\n",
       " '_append',\n",
       " '_arith_method',\n",
       " '_arith_method_with_reindex',\n",
       " '_as_manager',\n",
       " '_attrs',\n",
       " '_box_col_values',\n",
       " '_can_fast_transpose',\n",
       " '_check_inplace_and_allows_duplicate_labels',\n",
       " '_check_is_chained_assignment_possible',\n",
       " '_check_label_or_level_ambiguity',\n",
       " '_check_setitem_copy',\n",
       " '_clear_item_cache',\n",
       " '_clip_with_one_bound',\n",
       " '_clip_with_scalar',\n",
       " '_cmp_method',\n",
       " '_combine_frame',\n",
       " '_consolidate',\n",
       " '_consolidate_inplace',\n",
       " '_construct_axes_dict',\n",
       " '_construct_result',\n",
       " '_constructor',\n",
       " '_constructor_from_mgr',\n",
       " '_constructor_sliced',\n",
       " '_constructor_sliced_from_mgr',\n",
       " '_create_data_for_split_and_tight_to_dict',\n",
       " '_data',\n",
       " '_deprecate_downcast',\n",
       " '_dir_additions',\n",
       " '_dir_deletions',\n",
       " '_dispatch_frame_op',\n",
       " '_drop_axis',\n",
       " '_drop_labels_or_levels',\n",
       " '_ensure_valid_index',\n",
       " '_find_valid_index',\n",
       " '_flags',\n",
       " '_flex_arith_method',\n",
       " '_flex_cmp_method',\n",
       " '_from_arrays',\n",
       " '_from_mgr',\n",
       " '_get_agg_axis',\n",
       " '_get_axis',\n",
       " '_get_axis_name',\n",
       " '_get_axis_number',\n",
       " '_get_axis_resolvers',\n",
       " '_get_block_manager_axis',\n",
       " '_get_bool_data',\n",
       " '_get_cleaned_column_resolvers',\n",
       " '_get_column_array',\n",
       " '_get_index_resolvers',\n",
       " '_get_item_cache',\n",
       " '_get_label_or_level_values',\n",
       " '_get_numeric_data',\n",
       " '_get_value',\n",
       " '_get_values_for_csv',\n",
       " '_getitem_bool_array',\n",
       " '_getitem_multilevel',\n",
       " '_getitem_nocopy',\n",
       " '_getitem_slice',\n",
       " '_gotitem',\n",
       " '_hidden_attrs',\n",
       " '_indexed_same',\n",
       " '_info_axis',\n",
       " '_info_axis_name',\n",
       " '_info_axis_number',\n",
       " '_info_repr',\n",
       " '_init_mgr',\n",
       " '_inplace_method',\n",
       " '_internal_names',\n",
       " '_internal_names_set',\n",
       " '_is_copy',\n",
       " '_is_homogeneous_type',\n",
       " '_is_label_or_level_reference',\n",
       " '_is_label_reference',\n",
       " '_is_level_reference',\n",
       " '_is_mixed_type',\n",
       " '_is_view',\n",
       " '_is_view_after_cow_rules',\n",
       " '_iset_item',\n",
       " '_iset_item_mgr',\n",
       " '_iset_not_inplace',\n",
       " '_item_cache',\n",
       " '_iter_column_arrays',\n",
       " '_ixs',\n",
       " '_logical_func',\n",
       " '_logical_method',\n",
       " '_maybe_align_series_as_frame',\n",
       " '_maybe_cache_changed',\n",
       " '_maybe_update_cacher',\n",
       " '_metadata',\n",
       " '_mgr',\n",
       " '_min_count_stat_function',\n",
       " '_needs_reindex_multi',\n",
       " '_pad_or_backfill',\n",
       " '_protect_consolidate',\n",
       " '_reduce',\n",
       " '_reduce_axis1',\n",
       " '_reindex_axes',\n",
       " '_reindex_multi',\n",
       " '_reindex_with_indexers',\n",
       " '_rename',\n",
       " '_replace_columnwise',\n",
       " '_repr_data_resource_',\n",
       " '_repr_fits_horizontal_',\n",
       " '_repr_fits_vertical_',\n",
       " '_repr_html_',\n",
       " '_repr_latex_',\n",
       " '_reset_cache',\n",
       " '_reset_cacher',\n",
       " '_sanitize_column',\n",
       " '_series',\n",
       " '_set_axis',\n",
       " '_set_axis_name',\n",
       " '_set_axis_nocheck',\n",
       " '_set_is_copy',\n",
       " '_set_item',\n",
       " '_set_item_frame_value',\n",
       " '_set_item_mgr',\n",
       " '_set_value',\n",
       " '_setitem_array',\n",
       " '_setitem_frame',\n",
       " '_setitem_slice',\n",
       " '_shift_with_freq',\n",
       " '_should_reindex_frame_op',\n",
       " '_slice',\n",
       " '_stat_function',\n",
       " '_stat_function_ddof',\n",
       " '_take_with_is_copy',\n",
       " '_to_dict_of_blocks',\n",
       " '_to_latex_via_styler',\n",
       " '_typ',\n",
       " '_update_inplace',\n",
       " '_validate_dtype',\n",
       " '_values',\n",
       " '_where',\n",
       " 'abs',\n",
       " 'add',\n",
       " 'add_prefix',\n",
       " 'add_suffix',\n",
       " 'agg',\n",
       " 'aggregate',\n",
       " 'align',\n",
       " 'all',\n",
       " 'any',\n",
       " 'apply',\n",
       " 'applymap',\n",
       " 'asfreq',\n",
       " 'asof',\n",
       " 'assign',\n",
       " 'astype',\n",
       " 'at',\n",
       " 'at_time',\n",
       " 'attrs',\n",
       " 'axes',\n",
       " 'backfill',\n",
       " 'between_time',\n",
       " 'bfill',\n",
       " 'bool',\n",
       " 'boxplot',\n",
       " 'clip',\n",
       " 'columns',\n",
       " 'combine',\n",
       " 'combine_first',\n",
       " 'compare',\n",
       " 'convert_dtypes',\n",
       " 'copy',\n",
       " 'corr',\n",
       " 'corrwith',\n",
       " 'count',\n",
       " 'cov',\n",
       " 'cummax',\n",
       " 'cummin',\n",
       " 'cumprod',\n",
       " 'cumsum',\n",
       " 'describe',\n",
       " 'diff',\n",
       " 'div',\n",
       " 'divide',\n",
       " 'dot',\n",
       " 'drop',\n",
       " 'drop_duplicates',\n",
       " 'droplevel',\n",
       " 'dropna',\n",
       " 'dtypes',\n",
       " 'duplicated',\n",
       " 'empty',\n",
       " 'eq',\n",
       " 'equals',\n",
       " 'eval',\n",
       " 'ewm',\n",
       " 'expanding',\n",
       " 'explode',\n",
       " 'ffill',\n",
       " 'fillna',\n",
       " 'filter',\n",
       " 'first',\n",
       " 'first_valid_index',\n",
       " 'flags',\n",
       " 'floordiv',\n",
       " 'from_dict',\n",
       " 'from_records',\n",
       " 'ge',\n",
       " 'get',\n",
       " 'groupby',\n",
       " 'gt',\n",
       " 'head',\n",
       " 'hist',\n",
       " 'iat',\n",
       " 'idxmax',\n",
       " 'idxmin',\n",
       " 'iloc',\n",
       " 'index',\n",
       " 'infer_objects',\n",
       " 'info',\n",
       " 'insert',\n",
       " 'interpolate',\n",
       " 'isetitem',\n",
       " 'isin',\n",
       " 'isna',\n",
       " 'isnull',\n",
       " 'items',\n",
       " 'iterrows',\n",
       " 'itertuples',\n",
       " 'join',\n",
       " 'keys',\n",
       " 'kurt',\n",
       " 'kurtosis',\n",
       " 'last',\n",
       " 'last_valid_index',\n",
       " 'le',\n",
       " 'loc',\n",
       " 'lt',\n",
       " 'map',\n",
       " 'mask',\n",
       " 'max',\n",
       " 'mean',\n",
       " 'median',\n",
       " 'melt',\n",
       " 'memory_usage',\n",
       " 'merge',\n",
       " 'min',\n",
       " 'mod',\n",
       " 'mode',\n",
       " 'mul',\n",
       " 'multiply',\n",
       " 'ndim',\n",
       " 'ne',\n",
       " 'nlargest',\n",
       " 'notna',\n",
       " 'notnull',\n",
       " 'nsmallest',\n",
       " 'nunique',\n",
       " 'pad',\n",
       " 'pct_change',\n",
       " 'pipe',\n",
       " 'pivot',\n",
       " 'pivot_table',\n",
       " 'plot',\n",
       " 'pop',\n",
       " 'pow',\n",
       " 'prod',\n",
       " 'product',\n",
       " 'quantile',\n",
       " 'query',\n",
       " 'radd',\n",
       " 'rank',\n",
       " 'rdiv',\n",
       " 'reindex',\n",
       " 'reindex_like',\n",
       " 'rename',\n",
       " 'rename_axis',\n",
       " 'reorder_levels',\n",
       " 'replace',\n",
       " 'resample',\n",
       " 'reset_index',\n",
       " 'rfloordiv',\n",
       " 'rmod',\n",
       " 'rmul',\n",
       " 'rolling',\n",
       " 'round',\n",
       " 'rpow',\n",
       " 'rsub',\n",
       " 'rtruediv',\n",
       " 'sample',\n",
       " 'select_dtypes',\n",
       " 'sem',\n",
       " 'set_axis',\n",
       " 'set_flags',\n",
       " 'set_index',\n",
       " 'shape',\n",
       " 'shift',\n",
       " 'size',\n",
       " 'skew',\n",
       " 'sort_index',\n",
       " 'sort_values',\n",
       " 'squeeze',\n",
       " 'stack',\n",
       " 'std',\n",
       " 'style',\n",
       " 'sub',\n",
       " 'subtract',\n",
       " 'sum',\n",
       " 'swapaxes',\n",
       " 'swaplevel',\n",
       " 'tail',\n",
       " 'take',\n",
       " 'to_clipboard',\n",
       " 'to_csv',\n",
       " 'to_dict',\n",
       " 'to_excel',\n",
       " 'to_feather',\n",
       " 'to_gbq',\n",
       " 'to_hdf',\n",
       " 'to_html',\n",
       " 'to_json',\n",
       " 'to_latex',\n",
       " 'to_markdown',\n",
       " 'to_numpy',\n",
       " 'to_orc',\n",
       " 'to_parquet',\n",
       " 'to_period',\n",
       " 'to_pickle',\n",
       " 'to_records',\n",
       " 'to_sql',\n",
       " 'to_stata',\n",
       " 'to_string',\n",
       " 'to_timestamp',\n",
       " 'to_xarray',\n",
       " 'to_xml',\n",
       " 'transform',\n",
       " 'transpose',\n",
       " 'truediv',\n",
       " 'truncate',\n",
       " 'tz_convert',\n",
       " 'tz_localize',\n",
       " 'unstack',\n",
       " 'update',\n",
       " 'value_counts',\n",
       " 'values',\n",
       " 'var',\n",
       " 'where',\n",
       " 'xs']"
      ]
     },
     "execution_count": 6,
     "metadata": {},
     "output_type": "execute_result"
    }
   ],
   "source": [
    "dir(dataset)"
   ]
  },
  {
   "cell_type": "code",
   "execution_count": 7,
   "id": "f48be0df",
   "metadata": {
    "execution": {
     "iopub.execute_input": "2024-07-21T13:13:31.549589Z",
     "iopub.status.busy": "2024-07-21T13:13:31.549172Z",
     "iopub.status.idle": "2024-07-21T13:13:31.561588Z",
     "shell.execute_reply": "2024-07-21T13:13:31.560435Z"
    },
    "papermill": {
     "duration": 0.037045,
     "end_time": "2024-07-21T13:13:31.564167",
     "exception": false,
     "start_time": "2024-07-21T13:13:31.527122",
     "status": "completed"
    },
    "tags": []
   },
   "outputs": [
    {
     "data": {
      "text/plain": [
       "PassengerId    891\n",
       "Survived       891\n",
       "Pclass         891\n",
       "Name           891\n",
       "Sex            891\n",
       "Age            714\n",
       "SibSp          891\n",
       "Parch          891\n",
       "Ticket         891\n",
       "Fare           891\n",
       "Cabin          204\n",
       "Embarked       889\n",
       "dtype: int64"
      ]
     },
     "execution_count": 7,
     "metadata": {},
     "output_type": "execute_result"
    }
   ],
   "source": [
    "dataset.count()"
   ]
  },
  {
   "cell_type": "code",
   "execution_count": 8,
   "id": "bea4c585",
   "metadata": {
    "execution": {
     "iopub.execute_input": "2024-07-21T13:13:31.608253Z",
     "iopub.status.busy": "2024-07-21T13:13:31.607875Z",
     "iopub.status.idle": "2024-07-21T13:13:31.643525Z",
     "shell.execute_reply": "2024-07-21T13:13:31.642347Z"
    },
    "papermill": {
     "duration": 0.060837,
     "end_time": "2024-07-21T13:13:31.646402",
     "exception": false,
     "start_time": "2024-07-21T13:13:31.585565",
     "status": "completed"
    },
    "tags": []
   },
   "outputs": [
    {
     "data": {
      "text/html": [
       "<div>\n",
       "<style scoped>\n",
       "    .dataframe tbody tr th:only-of-type {\n",
       "        vertical-align: middle;\n",
       "    }\n",
       "\n",
       "    .dataframe tbody tr th {\n",
       "        vertical-align: top;\n",
       "    }\n",
       "\n",
       "    .dataframe thead th {\n",
       "        text-align: right;\n",
       "    }\n",
       "</style>\n",
       "<table border=\"1\" class=\"dataframe\">\n",
       "  <thead>\n",
       "    <tr style=\"text-align: right;\">\n",
       "      <th></th>\n",
       "      <th>PassengerId</th>\n",
       "      <th>Survived</th>\n",
       "      <th>Pclass</th>\n",
       "      <th>Age</th>\n",
       "      <th>SibSp</th>\n",
       "      <th>Parch</th>\n",
       "      <th>Fare</th>\n",
       "    </tr>\n",
       "  </thead>\n",
       "  <tbody>\n",
       "    <tr>\n",
       "      <th>count</th>\n",
       "      <td>891.000000</td>\n",
       "      <td>891.000000</td>\n",
       "      <td>891.000000</td>\n",
       "      <td>714.000000</td>\n",
       "      <td>891.000000</td>\n",
       "      <td>891.000000</td>\n",
       "      <td>891.000000</td>\n",
       "    </tr>\n",
       "    <tr>\n",
       "      <th>mean</th>\n",
       "      <td>446.000000</td>\n",
       "      <td>0.383838</td>\n",
       "      <td>2.308642</td>\n",
       "      <td>29.699118</td>\n",
       "      <td>0.523008</td>\n",
       "      <td>0.381594</td>\n",
       "      <td>32.204208</td>\n",
       "    </tr>\n",
       "    <tr>\n",
       "      <th>std</th>\n",
       "      <td>257.353842</td>\n",
       "      <td>0.486592</td>\n",
       "      <td>0.836071</td>\n",
       "      <td>14.526497</td>\n",
       "      <td>1.102743</td>\n",
       "      <td>0.806057</td>\n",
       "      <td>49.693429</td>\n",
       "    </tr>\n",
       "    <tr>\n",
       "      <th>min</th>\n",
       "      <td>1.000000</td>\n",
       "      <td>0.000000</td>\n",
       "      <td>1.000000</td>\n",
       "      <td>0.420000</td>\n",
       "      <td>0.000000</td>\n",
       "      <td>0.000000</td>\n",
       "      <td>0.000000</td>\n",
       "    </tr>\n",
       "    <tr>\n",
       "      <th>25%</th>\n",
       "      <td>223.500000</td>\n",
       "      <td>0.000000</td>\n",
       "      <td>2.000000</td>\n",
       "      <td>20.125000</td>\n",
       "      <td>0.000000</td>\n",
       "      <td>0.000000</td>\n",
       "      <td>7.910400</td>\n",
       "    </tr>\n",
       "    <tr>\n",
       "      <th>50%</th>\n",
       "      <td>446.000000</td>\n",
       "      <td>0.000000</td>\n",
       "      <td>3.000000</td>\n",
       "      <td>28.000000</td>\n",
       "      <td>0.000000</td>\n",
       "      <td>0.000000</td>\n",
       "      <td>14.454200</td>\n",
       "    </tr>\n",
       "    <tr>\n",
       "      <th>75%</th>\n",
       "      <td>668.500000</td>\n",
       "      <td>1.000000</td>\n",
       "      <td>3.000000</td>\n",
       "      <td>38.000000</td>\n",
       "      <td>1.000000</td>\n",
       "      <td>0.000000</td>\n",
       "      <td>31.000000</td>\n",
       "    </tr>\n",
       "    <tr>\n",
       "      <th>max</th>\n",
       "      <td>891.000000</td>\n",
       "      <td>1.000000</td>\n",
       "      <td>3.000000</td>\n",
       "      <td>80.000000</td>\n",
       "      <td>8.000000</td>\n",
       "      <td>6.000000</td>\n",
       "      <td>512.329200</td>\n",
       "    </tr>\n",
       "  </tbody>\n",
       "</table>\n",
       "</div>"
      ],
      "text/plain": [
       "       PassengerId    Survived      Pclass         Age       SibSp  \\\n",
       "count   891.000000  891.000000  891.000000  714.000000  891.000000   \n",
       "mean    446.000000    0.383838    2.308642   29.699118    0.523008   \n",
       "std     257.353842    0.486592    0.836071   14.526497    1.102743   \n",
       "min       1.000000    0.000000    1.000000    0.420000    0.000000   \n",
       "25%     223.500000    0.000000    2.000000   20.125000    0.000000   \n",
       "50%     446.000000    0.000000    3.000000   28.000000    0.000000   \n",
       "75%     668.500000    1.000000    3.000000   38.000000    1.000000   \n",
       "max     891.000000    1.000000    3.000000   80.000000    8.000000   \n",
       "\n",
       "            Parch        Fare  \n",
       "count  891.000000  891.000000  \n",
       "mean     0.381594   32.204208  \n",
       "std      0.806057   49.693429  \n",
       "min      0.000000    0.000000  \n",
       "25%      0.000000    7.910400  \n",
       "50%      0.000000   14.454200  \n",
       "75%      0.000000   31.000000  \n",
       "max      6.000000  512.329200  "
      ]
     },
     "execution_count": 8,
     "metadata": {},
     "output_type": "execute_result"
    }
   ],
   "source": [
    "dataset.describe()"
   ]
  },
  {
   "cell_type": "code",
   "execution_count": 9,
   "id": "03f8baa6",
   "metadata": {
    "execution": {
     "iopub.execute_input": "2024-07-21T13:13:31.689873Z",
     "iopub.status.busy": "2024-07-21T13:13:31.688950Z",
     "iopub.status.idle": "2024-07-21T13:13:31.715673Z",
     "shell.execute_reply": "2024-07-21T13:13:31.714542Z"
    },
    "papermill": {
     "duration": 0.051529,
     "end_time": "2024-07-21T13:13:31.718638",
     "exception": false,
     "start_time": "2024-07-21T13:13:31.667109",
     "status": "completed"
    },
    "tags": []
   },
   "outputs": [
    {
     "data": {
      "text/html": [
       "<div>\n",
       "<style scoped>\n",
       "    .dataframe tbody tr th:only-of-type {\n",
       "        vertical-align: middle;\n",
       "    }\n",
       "\n",
       "    .dataframe tbody tr th {\n",
       "        vertical-align: top;\n",
       "    }\n",
       "\n",
       "    .dataframe thead th {\n",
       "        text-align: right;\n",
       "    }\n",
       "</style>\n",
       "<table border=\"1\" class=\"dataframe\">\n",
       "  <thead>\n",
       "    <tr style=\"text-align: right;\">\n",
       "      <th></th>\n",
       "      <th>Name</th>\n",
       "      <th>Sex</th>\n",
       "      <th>Ticket</th>\n",
       "      <th>Cabin</th>\n",
       "      <th>Embarked</th>\n",
       "    </tr>\n",
       "  </thead>\n",
       "  <tbody>\n",
       "    <tr>\n",
       "      <th>count</th>\n",
       "      <td>891</td>\n",
       "      <td>891</td>\n",
       "      <td>891</td>\n",
       "      <td>204</td>\n",
       "      <td>889</td>\n",
       "    </tr>\n",
       "    <tr>\n",
       "      <th>unique</th>\n",
       "      <td>891</td>\n",
       "      <td>2</td>\n",
       "      <td>681</td>\n",
       "      <td>147</td>\n",
       "      <td>3</td>\n",
       "    </tr>\n",
       "    <tr>\n",
       "      <th>top</th>\n",
       "      <td>Braund, Mr. Owen Harris</td>\n",
       "      <td>male</td>\n",
       "      <td>347082</td>\n",
       "      <td>B96 B98</td>\n",
       "      <td>S</td>\n",
       "    </tr>\n",
       "    <tr>\n",
       "      <th>freq</th>\n",
       "      <td>1</td>\n",
       "      <td>577</td>\n",
       "      <td>7</td>\n",
       "      <td>4</td>\n",
       "      <td>644</td>\n",
       "    </tr>\n",
       "  </tbody>\n",
       "</table>\n",
       "</div>"
      ],
      "text/plain": [
       "                           Name   Sex  Ticket    Cabin Embarked\n",
       "count                       891   891     891      204      889\n",
       "unique                      891     2     681      147        3\n",
       "top     Braund, Mr. Owen Harris  male  347082  B96 B98        S\n",
       "freq                          1   577       7        4      644"
      ]
     },
     "execution_count": 9,
     "metadata": {},
     "output_type": "execute_result"
    }
   ],
   "source": [
    "dataset.describe(include='object')"
   ]
  },
  {
   "cell_type": "code",
   "execution_count": 10,
   "id": "43f4cd41",
   "metadata": {
    "execution": {
     "iopub.execute_input": "2024-07-21T13:13:31.763680Z",
     "iopub.status.busy": "2024-07-21T13:13:31.762295Z",
     "iopub.status.idle": "2024-07-21T13:13:31.772351Z",
     "shell.execute_reply": "2024-07-21T13:13:31.771273Z"
    },
    "papermill": {
     "duration": 0.035539,
     "end_time": "2024-07-21T13:13:31.775080",
     "exception": false,
     "start_time": "2024-07-21T13:13:31.739541",
     "status": "completed"
    },
    "tags": []
   },
   "outputs": [
    {
     "data": {
      "text/plain": [
       "PassengerId      0\n",
       "Survived         0\n",
       "Pclass           0\n",
       "Name             0\n",
       "Sex              0\n",
       "Age            177\n",
       "SibSp            0\n",
       "Parch            0\n",
       "Ticket           0\n",
       "Fare             0\n",
       "Cabin          687\n",
       "Embarked         2\n",
       "dtype: int64"
      ]
     },
     "execution_count": 10,
     "metadata": {},
     "output_type": "execute_result"
    }
   ],
   "source": [
    "dataset.isna().sum()"
   ]
  },
  {
   "cell_type": "code",
   "execution_count": 11,
   "id": "76acc464",
   "metadata": {
    "execution": {
     "iopub.execute_input": "2024-07-21T13:13:31.819482Z",
     "iopub.status.busy": "2024-07-21T13:13:31.819055Z",
     "iopub.status.idle": "2024-07-21T13:13:31.826427Z",
     "shell.execute_reply": "2024-07-21T13:13:31.825245Z"
    },
    "papermill": {
     "duration": 0.032739,
     "end_time": "2024-07-21T13:13:31.828976",
     "exception": false,
     "start_time": "2024-07-21T13:13:31.796237",
     "status": "completed"
    },
    "tags": []
   },
   "outputs": [
    {
     "data": {
      "text/plain": [
       "(891, 12)"
      ]
     },
     "execution_count": 11,
     "metadata": {},
     "output_type": "execute_result"
    }
   ],
   "source": [
    "dataset.shape"
   ]
  },
  {
   "cell_type": "code",
   "execution_count": 12,
   "id": "92b4f6cd",
   "metadata": {
    "execution": {
     "iopub.execute_input": "2024-07-21T13:13:31.873228Z",
     "iopub.status.busy": "2024-07-21T13:13:31.872811Z",
     "iopub.status.idle": "2024-07-21T13:13:31.880816Z",
     "shell.execute_reply": "2024-07-21T13:13:31.879659Z"
    },
    "papermill": {
     "duration": 0.032951,
     "end_time": "2024-07-21T13:13:31.883256",
     "exception": false,
     "start_time": "2024-07-21T13:13:31.850305",
     "status": "completed"
    },
    "tags": []
   },
   "outputs": [
    {
     "data": {
      "text/plain": [
       "29.69911764705882"
      ]
     },
     "execution_count": 12,
     "metadata": {},
     "output_type": "execute_result"
    }
   ],
   "source": [
    "dataset['Age'].mean()"
   ]
  },
  {
   "cell_type": "code",
   "execution_count": 13,
   "id": "db8cf7b4",
   "metadata": {
    "execution": {
     "iopub.execute_input": "2024-07-21T13:13:31.930080Z",
     "iopub.status.busy": "2024-07-21T13:13:31.929253Z",
     "iopub.status.idle": "2024-07-21T13:13:31.938883Z",
     "shell.execute_reply": "2024-07-21T13:13:31.937548Z"
    },
    "papermill": {
     "duration": 0.035447,
     "end_time": "2024-07-21T13:13:31.941357",
     "exception": false,
     "start_time": "2024-07-21T13:13:31.905910",
     "status": "completed"
    },
    "tags": []
   },
   "outputs": [
    {
     "data": {
      "text/plain": [
       "(183, 12)"
      ]
     },
     "execution_count": 13,
     "metadata": {},
     "output_type": "execute_result"
    }
   ],
   "source": [
    "dataset.dropna().shape"
   ]
  },
  {
   "cell_type": "code",
   "execution_count": 14,
   "id": "c1c26d0c",
   "metadata": {
    "execution": {
     "iopub.execute_input": "2024-07-21T13:13:31.987265Z",
     "iopub.status.busy": "2024-07-21T13:13:31.986837Z",
     "iopub.status.idle": "2024-07-21T13:13:31.993694Z",
     "shell.execute_reply": "2024-07-21T13:13:31.992528Z"
    },
    "papermill": {
     "duration": 0.033008,
     "end_time": "2024-07-21T13:13:31.996577",
     "exception": false,
     "start_time": "2024-07-21T13:13:31.963569",
     "status": "completed"
    },
    "tags": []
   },
   "outputs": [],
   "source": [
    "dataset.fillna({'Age' :dataset['Age'].mean()}, inplace = True)"
   ]
  },
  {
   "cell_type": "code",
   "execution_count": 15,
   "id": "a1f26f30",
   "metadata": {
    "execution": {
     "iopub.execute_input": "2024-07-21T13:13:32.042080Z",
     "iopub.status.busy": "2024-07-21T13:13:32.041674Z",
     "iopub.status.idle": "2024-07-21T13:13:32.051542Z",
     "shell.execute_reply": "2024-07-21T13:13:32.050335Z"
    },
    "papermill": {
     "duration": 0.035586,
     "end_time": "2024-07-21T13:13:32.054294",
     "exception": false,
     "start_time": "2024-07-21T13:13:32.018708",
     "status": "completed"
    },
    "tags": []
   },
   "outputs": [
    {
     "data": {
      "text/plain": [
       "(202, 12)"
      ]
     },
     "execution_count": 15,
     "metadata": {},
     "output_type": "execute_result"
    }
   ],
   "source": [
    "dataset.dropna().shape"
   ]
  },
  {
   "cell_type": "code",
   "execution_count": 16,
   "id": "e0f15634",
   "metadata": {
    "execution": {
     "iopub.execute_input": "2024-07-21T13:13:32.099678Z",
     "iopub.status.busy": "2024-07-21T13:13:32.099252Z",
     "iopub.status.idle": "2024-07-21T13:13:32.109208Z",
     "shell.execute_reply": "2024-07-21T13:13:32.107994Z"
    },
    "papermill": {
     "duration": 0.035428,
     "end_time": "2024-07-21T13:13:32.111637",
     "exception": false,
     "start_time": "2024-07-21T13:13:32.076209",
     "status": "completed"
    },
    "tags": []
   },
   "outputs": [
    {
     "data": {
      "text/plain": [
       "PassengerId      0\n",
       "Survived         0\n",
       "Pclass           0\n",
       "Name             0\n",
       "Sex              0\n",
       "Age              0\n",
       "SibSp            0\n",
       "Parch            0\n",
       "Ticket           0\n",
       "Fare             0\n",
       "Cabin          687\n",
       "Embarked         2\n",
       "dtype: int64"
      ]
     },
     "execution_count": 16,
     "metadata": {},
     "output_type": "execute_result"
    }
   ],
   "source": [
    "dataset.isna().sum()"
   ]
  },
  {
   "cell_type": "code",
   "execution_count": 17,
   "id": "032d403b",
   "metadata": {
    "execution": {
     "iopub.execute_input": "2024-07-21T13:13:32.157672Z",
     "iopub.status.busy": "2024-07-21T13:13:32.157263Z",
     "iopub.status.idle": "2024-07-21T13:13:32.181701Z",
     "shell.execute_reply": "2024-07-21T13:13:32.180392Z"
    },
    "papermill": {
     "duration": 0.051261,
     "end_time": "2024-07-21T13:13:32.184423",
     "exception": false,
     "start_time": "2024-07-21T13:13:32.133162",
     "status": "completed"
    },
    "tags": []
   },
   "outputs": [
    {
     "data": {
      "text/html": [
       "<div>\n",
       "<style scoped>\n",
       "    .dataframe tbody tr th:only-of-type {\n",
       "        vertical-align: middle;\n",
       "    }\n",
       "\n",
       "    .dataframe tbody tr th {\n",
       "        vertical-align: top;\n",
       "    }\n",
       "\n",
       "    .dataframe thead th {\n",
       "        text-align: right;\n",
       "    }\n",
       "</style>\n",
       "<table border=\"1\" class=\"dataframe\">\n",
       "  <thead>\n",
       "    <tr style=\"text-align: right;\">\n",
       "      <th></th>\n",
       "      <th>Name</th>\n",
       "      <th>Sex</th>\n",
       "      <th>Ticket</th>\n",
       "      <th>Cabin</th>\n",
       "      <th>Embarked</th>\n",
       "    </tr>\n",
       "  </thead>\n",
       "  <tbody>\n",
       "    <tr>\n",
       "      <th>count</th>\n",
       "      <td>891</td>\n",
       "      <td>891</td>\n",
       "      <td>891</td>\n",
       "      <td>204</td>\n",
       "      <td>889</td>\n",
       "    </tr>\n",
       "    <tr>\n",
       "      <th>unique</th>\n",
       "      <td>891</td>\n",
       "      <td>2</td>\n",
       "      <td>681</td>\n",
       "      <td>147</td>\n",
       "      <td>3</td>\n",
       "    </tr>\n",
       "    <tr>\n",
       "      <th>top</th>\n",
       "      <td>Braund, Mr. Owen Harris</td>\n",
       "      <td>male</td>\n",
       "      <td>347082</td>\n",
       "      <td>B96 B98</td>\n",
       "      <td>S</td>\n",
       "    </tr>\n",
       "    <tr>\n",
       "      <th>freq</th>\n",
       "      <td>1</td>\n",
       "      <td>577</td>\n",
       "      <td>7</td>\n",
       "      <td>4</td>\n",
       "      <td>644</td>\n",
       "    </tr>\n",
       "  </tbody>\n",
       "</table>\n",
       "</div>"
      ],
      "text/plain": [
       "                           Name   Sex  Ticket    Cabin Embarked\n",
       "count                       891   891     891      204      889\n",
       "unique                      891     2     681      147        3\n",
       "top     Braund, Mr. Owen Harris  male  347082  B96 B98        S\n",
       "freq                          1   577       7        4      644"
      ]
     },
     "execution_count": 17,
     "metadata": {},
     "output_type": "execute_result"
    }
   ],
   "source": [
    "dataset.describe(include='object')"
   ]
  },
  {
   "cell_type": "code",
   "execution_count": 18,
   "id": "71bbed90",
   "metadata": {
    "execution": {
     "iopub.execute_input": "2024-07-21T13:13:32.232021Z",
     "iopub.status.busy": "2024-07-21T13:13:32.231633Z",
     "iopub.status.idle": "2024-07-21T13:13:32.240716Z",
     "shell.execute_reply": "2024-07-21T13:13:32.239401Z"
    },
    "papermill": {
     "duration": 0.036091,
     "end_time": "2024-07-21T13:13:32.243508",
     "exception": false,
     "start_time": "2024-07-21T13:13:32.207417",
     "status": "completed"
    },
    "tags": []
   },
   "outputs": [
    {
     "data": {
      "text/plain": [
       "array([nan, 'C85', 'C123', 'E46', 'G6', 'C103', 'D56', 'A6',\n",
       "       'C23 C25 C27', 'B78', 'D33', 'B30', 'C52', 'B28', 'C83', 'F33',\n",
       "       'F G73', 'E31', 'A5', 'D10 D12', 'D26', 'C110', 'B58 B60', 'E101',\n",
       "       'F E69', 'D47', 'B86', 'F2', 'C2', 'E33', 'B19', 'A7', 'C49', 'F4',\n",
       "       'A32', 'B4', 'B80', 'A31', 'D36', 'D15', 'C93', 'C78', 'D35',\n",
       "       'C87', 'B77', 'E67', 'B94', 'C125', 'C99', 'C118', 'D7', 'A19',\n",
       "       'B49', 'D', 'C22 C26', 'C106', 'C65', 'E36', 'C54',\n",
       "       'B57 B59 B63 B66', 'C7', 'E34', 'C32', 'B18', 'C124', 'C91', 'E40',\n",
       "       'T', 'C128', 'D37', 'B35', 'E50', 'C82', 'B96 B98', 'E10', 'E44',\n",
       "       'A34', 'C104', 'C111', 'C92', 'E38', 'D21', 'E12', 'E63', 'A14',\n",
       "       'B37', 'C30', 'D20', 'B79', 'E25', 'D46', 'B73', 'C95', 'B38',\n",
       "       'B39', 'B22', 'C86', 'C70', 'A16', 'C101', 'C68', 'A10', 'E68',\n",
       "       'B41', 'A20', 'D19', 'D50', 'D9', 'A23', 'B50', 'A26', 'D48',\n",
       "       'E58', 'C126', 'B71', 'B51 B53 B55', 'D49', 'B5', 'B20', 'F G63',\n",
       "       'C62 C64', 'E24', 'C90', 'C45', 'E8', 'B101', 'D45', 'C46', 'D30',\n",
       "       'E121', 'D11', 'E77', 'F38', 'B3', 'D6', 'B82 B84', 'D17', 'A36',\n",
       "       'B102', 'B69', 'E49', 'C47', 'D28', 'E17', 'A24', 'C50', 'B42',\n",
       "       'C148'], dtype=object)"
      ]
     },
     "execution_count": 18,
     "metadata": {},
     "output_type": "execute_result"
    }
   ],
   "source": [
    "dataset['Cabin'].unique()"
   ]
  },
  {
   "cell_type": "code",
   "execution_count": 19,
   "id": "cdd5c95f",
   "metadata": {
    "execution": {
     "iopub.execute_input": "2024-07-21T13:13:32.289872Z",
     "iopub.status.busy": "2024-07-21T13:13:32.289441Z",
     "iopub.status.idle": "2024-07-21T13:13:32.299378Z",
     "shell.execute_reply": "2024-07-21T13:13:32.298228Z"
    },
    "papermill": {
     "duration": 0.036145,
     "end_time": "2024-07-21T13:13:32.301876",
     "exception": false,
     "start_time": "2024-07-21T13:13:32.265731",
     "status": "completed"
    },
    "tags": []
   },
   "outputs": [
    {
     "data": {
      "text/plain": [
       "PassengerId      0\n",
       "Survived         0\n",
       "Pclass           0\n",
       "Name             0\n",
       "Sex              0\n",
       "Age              0\n",
       "SibSp            0\n",
       "Parch            0\n",
       "Ticket           0\n",
       "Fare             0\n",
       "Cabin          687\n",
       "Embarked         2\n",
       "dtype: int64"
      ]
     },
     "execution_count": 19,
     "metadata": {},
     "output_type": "execute_result"
    }
   ],
   "source": [
    "dataset.isna().sum()"
   ]
  },
  {
   "cell_type": "code",
   "execution_count": 20,
   "id": "9ba38dd3",
   "metadata": {
    "execution": {
     "iopub.execute_input": "2024-07-21T13:13:32.348606Z",
     "iopub.status.busy": "2024-07-21T13:13:32.348137Z",
     "iopub.status.idle": "2024-07-21T13:13:32.354183Z",
     "shell.execute_reply": "2024-07-21T13:13:32.352959Z"
    },
    "papermill": {
     "duration": 0.0321,
     "end_time": "2024-07-21T13:13:32.356723",
     "exception": false,
     "start_time": "2024-07-21T13:13:32.324623",
     "status": "completed"
    },
    "tags": []
   },
   "outputs": [],
   "source": [
    "dataset.set_index(keys=dataset['PassengerId'], inplace=True)"
   ]
  },
  {
   "cell_type": "code",
   "execution_count": 21,
   "id": "05afc177",
   "metadata": {
    "execution": {
     "iopub.execute_input": "2024-07-21T13:13:32.403689Z",
     "iopub.status.busy": "2024-07-21T13:13:32.403280Z",
     "iopub.status.idle": "2024-07-21T13:13:32.411441Z",
     "shell.execute_reply": "2024-07-21T13:13:32.410055Z"
    },
    "papermill": {
     "duration": 0.035005,
     "end_time": "2024-07-21T13:13:32.414243",
     "exception": false,
     "start_time": "2024-07-21T13:13:32.379238",
     "status": "completed"
    },
    "tags": []
   },
   "outputs": [],
   "source": [
    "dataset.drop(columns=['Cabin', 'Ticket', 'Name', 'PassengerId'], inplace=True)"
   ]
  },
  {
   "cell_type": "code",
   "execution_count": 22,
   "id": "774f410d",
   "metadata": {
    "execution": {
     "iopub.execute_input": "2024-07-21T13:13:32.463407Z",
     "iopub.status.busy": "2024-07-21T13:13:32.463009Z",
     "iopub.status.idle": "2024-07-21T13:13:32.470796Z",
     "shell.execute_reply": "2024-07-21T13:13:32.469544Z"
    },
    "papermill": {
     "duration": 0.034699,
     "end_time": "2024-07-21T13:13:32.473439",
     "exception": false,
     "start_time": "2024-07-21T13:13:32.438740",
     "status": "completed"
    },
    "tags": []
   },
   "outputs": [],
   "source": [
    "dataset.dropna(inplace=True)"
   ]
  },
  {
   "cell_type": "code",
   "execution_count": 23,
   "id": "d8f5b7d2",
   "metadata": {
    "execution": {
     "iopub.execute_input": "2024-07-21T13:13:32.584552Z",
     "iopub.status.busy": "2024-07-21T13:13:32.584104Z",
     "iopub.status.idle": "2024-07-21T13:13:32.600353Z",
     "shell.execute_reply": "2024-07-21T13:13:32.599114Z"
    },
    "papermill": {
     "duration": 0.043429,
     "end_time": "2024-07-21T13:13:32.603063",
     "exception": false,
     "start_time": "2024-07-21T13:13:32.559634",
     "status": "completed"
    },
    "tags": []
   },
   "outputs": [
    {
     "data": {
      "text/html": [
       "<div>\n",
       "<style scoped>\n",
       "    .dataframe tbody tr th:only-of-type {\n",
       "        vertical-align: middle;\n",
       "    }\n",
       "\n",
       "    .dataframe tbody tr th {\n",
       "        vertical-align: top;\n",
       "    }\n",
       "\n",
       "    .dataframe thead th {\n",
       "        text-align: right;\n",
       "    }\n",
       "</style>\n",
       "<table border=\"1\" class=\"dataframe\">\n",
       "  <thead>\n",
       "    <tr style=\"text-align: right;\">\n",
       "      <th></th>\n",
       "      <th>Survived</th>\n",
       "      <th>Pclass</th>\n",
       "      <th>Sex</th>\n",
       "      <th>Age</th>\n",
       "      <th>SibSp</th>\n",
       "      <th>Parch</th>\n",
       "      <th>Fare</th>\n",
       "      <th>Embarked</th>\n",
       "    </tr>\n",
       "    <tr>\n",
       "      <th>PassengerId</th>\n",
       "      <th></th>\n",
       "      <th></th>\n",
       "      <th></th>\n",
       "      <th></th>\n",
       "      <th></th>\n",
       "      <th></th>\n",
       "      <th></th>\n",
       "      <th></th>\n",
       "    </tr>\n",
       "  </thead>\n",
       "  <tbody>\n",
       "    <tr>\n",
       "      <th>1</th>\n",
       "      <td>0</td>\n",
       "      <td>3</td>\n",
       "      <td>male</td>\n",
       "      <td>22.0</td>\n",
       "      <td>1</td>\n",
       "      <td>0</td>\n",
       "      <td>7.2500</td>\n",
       "      <td>S</td>\n",
       "    </tr>\n",
       "    <tr>\n",
       "      <th>2</th>\n",
       "      <td>1</td>\n",
       "      <td>1</td>\n",
       "      <td>female</td>\n",
       "      <td>38.0</td>\n",
       "      <td>1</td>\n",
       "      <td>0</td>\n",
       "      <td>71.2833</td>\n",
       "      <td>C</td>\n",
       "    </tr>\n",
       "    <tr>\n",
       "      <th>3</th>\n",
       "      <td>1</td>\n",
       "      <td>3</td>\n",
       "      <td>female</td>\n",
       "      <td>26.0</td>\n",
       "      <td>0</td>\n",
       "      <td>0</td>\n",
       "      <td>7.9250</td>\n",
       "      <td>S</td>\n",
       "    </tr>\n",
       "    <tr>\n",
       "      <th>4</th>\n",
       "      <td>1</td>\n",
       "      <td>1</td>\n",
       "      <td>female</td>\n",
       "      <td>35.0</td>\n",
       "      <td>1</td>\n",
       "      <td>0</td>\n",
       "      <td>53.1000</td>\n",
       "      <td>S</td>\n",
       "    </tr>\n",
       "    <tr>\n",
       "      <th>5</th>\n",
       "      <td>0</td>\n",
       "      <td>3</td>\n",
       "      <td>male</td>\n",
       "      <td>35.0</td>\n",
       "      <td>0</td>\n",
       "      <td>0</td>\n",
       "      <td>8.0500</td>\n",
       "      <td>S</td>\n",
       "    </tr>\n",
       "  </tbody>\n",
       "</table>\n",
       "</div>"
      ],
      "text/plain": [
       "             Survived  Pclass     Sex   Age  SibSp  Parch     Fare Embarked\n",
       "PassengerId                                                                \n",
       "1                   0       3    male  22.0      1      0   7.2500        S\n",
       "2                   1       1  female  38.0      1      0  71.2833        C\n",
       "3                   1       3  female  26.0      0      0   7.9250        S\n",
       "4                   1       1  female  35.0      1      0  53.1000        S\n",
       "5                   0       3    male  35.0      0      0   8.0500        S"
      ]
     },
     "execution_count": 23,
     "metadata": {},
     "output_type": "execute_result"
    }
   ],
   "source": [
    "dataset.head()"
   ]
  },
  {
   "cell_type": "code",
   "execution_count": 24,
   "id": "9cc7f2a9",
   "metadata": {
    "execution": {
     "iopub.execute_input": "2024-07-21T13:13:32.651890Z",
     "iopub.status.busy": "2024-07-21T13:13:32.651505Z",
     "iopub.status.idle": "2024-07-21T13:13:32.664435Z",
     "shell.execute_reply": "2024-07-21T13:13:32.663277Z"
    },
    "papermill": {
     "duration": 0.040628,
     "end_time": "2024-07-21T13:13:32.667517",
     "exception": false,
     "start_time": "2024-07-21T13:13:32.626889",
     "status": "completed"
    },
    "tags": []
   },
   "outputs": [],
   "source": [
    "dataset_with_dummies = pd.get_dummies(dataset, columns = ['Sex', 'Embarked'], drop_first=True, )"
   ]
  },
  {
   "cell_type": "code",
   "execution_count": 25,
   "id": "6756cddb",
   "metadata": {
    "execution": {
     "iopub.execute_input": "2024-07-21T13:13:32.718642Z",
     "iopub.status.busy": "2024-07-21T13:13:32.718152Z",
     "iopub.status.idle": "2024-07-21T13:13:32.725094Z",
     "shell.execute_reply": "2024-07-21T13:13:32.723560Z"
    },
    "papermill": {
     "duration": 0.036005,
     "end_time": "2024-07-21T13:13:32.727828",
     "exception": false,
     "start_time": "2024-07-21T13:13:32.691823",
     "status": "completed"
    },
    "tags": []
   },
   "outputs": [],
   "source": [
    "dataset_with_dummies = dataset_with_dummies.astype(np.float32)"
   ]
  },
  {
   "cell_type": "code",
   "execution_count": 26,
   "id": "051ea091",
   "metadata": {
    "execution": {
     "iopub.execute_input": "2024-07-21T13:13:32.776411Z",
     "iopub.status.busy": "2024-07-21T13:13:32.776016Z",
     "iopub.status.idle": "2024-07-21T13:13:32.800656Z",
     "shell.execute_reply": "2024-07-21T13:13:32.799129Z"
    },
    "papermill": {
     "duration": 0.0524,
     "end_time": "2024-07-21T13:13:32.803532",
     "exception": false,
     "start_time": "2024-07-21T13:13:32.751132",
     "status": "completed"
    },
    "tags": []
   },
   "outputs": [
    {
     "data": {
      "text/html": [
       "<div>\n",
       "<style scoped>\n",
       "    .dataframe tbody tr th:only-of-type {\n",
       "        vertical-align: middle;\n",
       "    }\n",
       "\n",
       "    .dataframe tbody tr th {\n",
       "        vertical-align: top;\n",
       "    }\n",
       "\n",
       "    .dataframe thead th {\n",
       "        text-align: right;\n",
       "    }\n",
       "</style>\n",
       "<table border=\"1\" class=\"dataframe\">\n",
       "  <thead>\n",
       "    <tr style=\"text-align: right;\">\n",
       "      <th></th>\n",
       "      <th>Survived</th>\n",
       "      <th>Pclass</th>\n",
       "      <th>Age</th>\n",
       "      <th>SibSp</th>\n",
       "      <th>Parch</th>\n",
       "      <th>Fare</th>\n",
       "      <th>Sex_male</th>\n",
       "      <th>Embarked_Q</th>\n",
       "      <th>Embarked_S</th>\n",
       "    </tr>\n",
       "    <tr>\n",
       "      <th>PassengerId</th>\n",
       "      <th></th>\n",
       "      <th></th>\n",
       "      <th></th>\n",
       "      <th></th>\n",
       "      <th></th>\n",
       "      <th></th>\n",
       "      <th></th>\n",
       "      <th></th>\n",
       "      <th></th>\n",
       "    </tr>\n",
       "  </thead>\n",
       "  <tbody>\n",
       "    <tr>\n",
       "      <th>1</th>\n",
       "      <td>0.0</td>\n",
       "      <td>3.0</td>\n",
       "      <td>22.0</td>\n",
       "      <td>1.0</td>\n",
       "      <td>0.0</td>\n",
       "      <td>7.250000</td>\n",
       "      <td>1.0</td>\n",
       "      <td>0.0</td>\n",
       "      <td>1.0</td>\n",
       "    </tr>\n",
       "    <tr>\n",
       "      <th>2</th>\n",
       "      <td>1.0</td>\n",
       "      <td>1.0</td>\n",
       "      <td>38.0</td>\n",
       "      <td>1.0</td>\n",
       "      <td>0.0</td>\n",
       "      <td>71.283302</td>\n",
       "      <td>0.0</td>\n",
       "      <td>0.0</td>\n",
       "      <td>0.0</td>\n",
       "    </tr>\n",
       "    <tr>\n",
       "      <th>3</th>\n",
       "      <td>1.0</td>\n",
       "      <td>3.0</td>\n",
       "      <td>26.0</td>\n",
       "      <td>0.0</td>\n",
       "      <td>0.0</td>\n",
       "      <td>7.925000</td>\n",
       "      <td>0.0</td>\n",
       "      <td>0.0</td>\n",
       "      <td>1.0</td>\n",
       "    </tr>\n",
       "    <tr>\n",
       "      <th>4</th>\n",
       "      <td>1.0</td>\n",
       "      <td>1.0</td>\n",
       "      <td>35.0</td>\n",
       "      <td>1.0</td>\n",
       "      <td>0.0</td>\n",
       "      <td>53.099998</td>\n",
       "      <td>0.0</td>\n",
       "      <td>0.0</td>\n",
       "      <td>1.0</td>\n",
       "    </tr>\n",
       "    <tr>\n",
       "      <th>5</th>\n",
       "      <td>0.0</td>\n",
       "      <td>3.0</td>\n",
       "      <td>35.0</td>\n",
       "      <td>0.0</td>\n",
       "      <td>0.0</td>\n",
       "      <td>8.050000</td>\n",
       "      <td>1.0</td>\n",
       "      <td>0.0</td>\n",
       "      <td>1.0</td>\n",
       "    </tr>\n",
       "  </tbody>\n",
       "</table>\n",
       "</div>"
      ],
      "text/plain": [
       "             Survived  Pclass   Age  SibSp  Parch       Fare  Sex_male  \\\n",
       "PassengerId                                                              \n",
       "1                 0.0     3.0  22.0    1.0    0.0   7.250000       1.0   \n",
       "2                 1.0     1.0  38.0    1.0    0.0  71.283302       0.0   \n",
       "3                 1.0     3.0  26.0    0.0    0.0   7.925000       0.0   \n",
       "4                 1.0     1.0  35.0    1.0    0.0  53.099998       0.0   \n",
       "5                 0.0     3.0  35.0    0.0    0.0   8.050000       1.0   \n",
       "\n",
       "             Embarked_Q  Embarked_S  \n",
       "PassengerId                          \n",
       "1                   0.0         1.0  \n",
       "2                   0.0         0.0  \n",
       "3                   0.0         1.0  \n",
       "4                   0.0         1.0  \n",
       "5                   0.0         1.0  "
      ]
     },
     "execution_count": 26,
     "metadata": {},
     "output_type": "execute_result"
    }
   ],
   "source": [
    "dataset_with_dummies.head()"
   ]
  },
  {
   "cell_type": "code",
   "execution_count": 27,
   "id": "88aed797",
   "metadata": {
    "execution": {
     "iopub.execute_input": "2024-07-21T13:13:32.855438Z",
     "iopub.status.busy": "2024-07-21T13:13:32.855053Z",
     "iopub.status.idle": "2024-07-21T13:13:33.507262Z",
     "shell.execute_reply": "2024-07-21T13:13:33.506011Z"
    },
    "papermill": {
     "duration": 0.682232,
     "end_time": "2024-07-21T13:13:33.510715",
     "exception": false,
     "start_time": "2024-07-21T13:13:32.828483",
     "status": "completed"
    },
    "tags": []
   },
   "outputs": [],
   "source": [
    "from sklearn.linear_model import LogisticRegression\n",
    "from sklearn.preprocessing import StandardScaler\n",
    "from sklearn.model_selection import train_test_split\n",
    "from sklearn.metrics import accuracy_score\n",
    "from sklearn.feature_selection import f_regression"
   ]
  },
  {
   "cell_type": "code",
   "execution_count": 28,
   "id": "7d8297ea",
   "metadata": {
    "execution": {
     "iopub.execute_input": "2024-07-21T13:13:33.563488Z",
     "iopub.status.busy": "2024-07-21T13:13:33.562992Z",
     "iopub.status.idle": "2024-07-21T13:13:33.569575Z",
     "shell.execute_reply": "2024-07-21T13:13:33.568357Z"
    },
    "papermill": {
     "duration": 0.034845,
     "end_time": "2024-07-21T13:13:33.572136",
     "exception": false,
     "start_time": "2024-07-21T13:13:33.537291",
     "status": "completed"
    },
    "tags": []
   },
   "outputs": [],
   "source": [
    "Y = dataset['Survived'].astype(np.int8)"
   ]
  },
  {
   "cell_type": "code",
   "execution_count": 29,
   "id": "e740bee8",
   "metadata": {
    "execution": {
     "iopub.execute_input": "2024-07-21T13:13:33.644643Z",
     "iopub.status.busy": "2024-07-21T13:13:33.643991Z",
     "iopub.status.idle": "2024-07-21T13:13:33.659613Z",
     "shell.execute_reply": "2024-07-21T13:13:33.658504Z"
    },
    "papermill": {
     "duration": 0.057421,
     "end_time": "2024-07-21T13:13:33.662939",
     "exception": false,
     "start_time": "2024-07-21T13:13:33.605518",
     "status": "completed"
    },
    "tags": []
   },
   "outputs": [
    {
     "data": {
      "text/plain": [
       "PassengerId\n",
       "1      0\n",
       "2      1\n",
       "3      1\n",
       "4      1\n",
       "5      0\n",
       "      ..\n",
       "887    0\n",
       "888    1\n",
       "889    0\n",
       "890    1\n",
       "891    0\n",
       "Name: Survived, Length: 889, dtype: int8"
      ]
     },
     "execution_count": 29,
     "metadata": {},
     "output_type": "execute_result"
    }
   ],
   "source": [
    "Y"
   ]
  },
  {
   "cell_type": "code",
   "execution_count": 30,
   "id": "6c947b75",
   "metadata": {
    "execution": {
     "iopub.execute_input": "2024-07-21T13:13:33.737607Z",
     "iopub.status.busy": "2024-07-21T13:13:33.736514Z",
     "iopub.status.idle": "2024-07-21T13:13:33.743636Z",
     "shell.execute_reply": "2024-07-21T13:13:33.742509Z"
    },
    "papermill": {
     "duration": 0.04647,
     "end_time": "2024-07-21T13:13:33.747670",
     "exception": false,
     "start_time": "2024-07-21T13:13:33.701200",
     "status": "completed"
    },
    "tags": []
   },
   "outputs": [],
   "source": [
    "X = dataset_with_dummies.drop(columns='Survived')"
   ]
  },
  {
   "cell_type": "code",
   "execution_count": 31,
   "id": "9573d220",
   "metadata": {
    "execution": {
     "iopub.execute_input": "2024-07-21T13:13:33.801192Z",
     "iopub.status.busy": "2024-07-21T13:13:33.800808Z",
     "iopub.status.idle": "2024-07-21T13:13:33.825915Z",
     "shell.execute_reply": "2024-07-21T13:13:33.824691Z"
    },
    "papermill": {
     "duration": 0.052634,
     "end_time": "2024-07-21T13:13:33.828887",
     "exception": false,
     "start_time": "2024-07-21T13:13:33.776253",
     "status": "completed"
    },
    "tags": []
   },
   "outputs": [
    {
     "data": {
      "text/html": [
       "<div>\n",
       "<style scoped>\n",
       "    .dataframe tbody tr th:only-of-type {\n",
       "        vertical-align: middle;\n",
       "    }\n",
       "\n",
       "    .dataframe tbody tr th {\n",
       "        vertical-align: top;\n",
       "    }\n",
       "\n",
       "    .dataframe thead th {\n",
       "        text-align: right;\n",
       "    }\n",
       "</style>\n",
       "<table border=\"1\" class=\"dataframe\">\n",
       "  <thead>\n",
       "    <tr style=\"text-align: right;\">\n",
       "      <th></th>\n",
       "      <th>Pclass</th>\n",
       "      <th>Age</th>\n",
       "      <th>SibSp</th>\n",
       "      <th>Parch</th>\n",
       "      <th>Fare</th>\n",
       "      <th>Sex_male</th>\n",
       "      <th>Embarked_Q</th>\n",
       "      <th>Embarked_S</th>\n",
       "    </tr>\n",
       "    <tr>\n",
       "      <th>PassengerId</th>\n",
       "      <th></th>\n",
       "      <th></th>\n",
       "      <th></th>\n",
       "      <th></th>\n",
       "      <th></th>\n",
       "      <th></th>\n",
       "      <th></th>\n",
       "      <th></th>\n",
       "    </tr>\n",
       "  </thead>\n",
       "  <tbody>\n",
       "    <tr>\n",
       "      <th>1</th>\n",
       "      <td>3.0</td>\n",
       "      <td>22.000000</td>\n",
       "      <td>1.0</td>\n",
       "      <td>0.0</td>\n",
       "      <td>7.250000</td>\n",
       "      <td>1.0</td>\n",
       "      <td>0.0</td>\n",
       "      <td>1.0</td>\n",
       "    </tr>\n",
       "    <tr>\n",
       "      <th>2</th>\n",
       "      <td>1.0</td>\n",
       "      <td>38.000000</td>\n",
       "      <td>1.0</td>\n",
       "      <td>0.0</td>\n",
       "      <td>71.283302</td>\n",
       "      <td>0.0</td>\n",
       "      <td>0.0</td>\n",
       "      <td>0.0</td>\n",
       "    </tr>\n",
       "    <tr>\n",
       "      <th>3</th>\n",
       "      <td>3.0</td>\n",
       "      <td>26.000000</td>\n",
       "      <td>0.0</td>\n",
       "      <td>0.0</td>\n",
       "      <td>7.925000</td>\n",
       "      <td>0.0</td>\n",
       "      <td>0.0</td>\n",
       "      <td>1.0</td>\n",
       "    </tr>\n",
       "    <tr>\n",
       "      <th>4</th>\n",
       "      <td>1.0</td>\n",
       "      <td>35.000000</td>\n",
       "      <td>1.0</td>\n",
       "      <td>0.0</td>\n",
       "      <td>53.099998</td>\n",
       "      <td>0.0</td>\n",
       "      <td>0.0</td>\n",
       "      <td>1.0</td>\n",
       "    </tr>\n",
       "    <tr>\n",
       "      <th>5</th>\n",
       "      <td>3.0</td>\n",
       "      <td>35.000000</td>\n",
       "      <td>0.0</td>\n",
       "      <td>0.0</td>\n",
       "      <td>8.050000</td>\n",
       "      <td>1.0</td>\n",
       "      <td>0.0</td>\n",
       "      <td>1.0</td>\n",
       "    </tr>\n",
       "    <tr>\n",
       "      <th>...</th>\n",
       "      <td>...</td>\n",
       "      <td>...</td>\n",
       "      <td>...</td>\n",
       "      <td>...</td>\n",
       "      <td>...</td>\n",
       "      <td>...</td>\n",
       "      <td>...</td>\n",
       "      <td>...</td>\n",
       "    </tr>\n",
       "    <tr>\n",
       "      <th>887</th>\n",
       "      <td>2.0</td>\n",
       "      <td>27.000000</td>\n",
       "      <td>0.0</td>\n",
       "      <td>0.0</td>\n",
       "      <td>13.000000</td>\n",
       "      <td>1.0</td>\n",
       "      <td>0.0</td>\n",
       "      <td>1.0</td>\n",
       "    </tr>\n",
       "    <tr>\n",
       "      <th>888</th>\n",
       "      <td>1.0</td>\n",
       "      <td>19.000000</td>\n",
       "      <td>0.0</td>\n",
       "      <td>0.0</td>\n",
       "      <td>30.000000</td>\n",
       "      <td>0.0</td>\n",
       "      <td>0.0</td>\n",
       "      <td>1.0</td>\n",
       "    </tr>\n",
       "    <tr>\n",
       "      <th>889</th>\n",
       "      <td>3.0</td>\n",
       "      <td>29.699118</td>\n",
       "      <td>1.0</td>\n",
       "      <td>2.0</td>\n",
       "      <td>23.450001</td>\n",
       "      <td>0.0</td>\n",
       "      <td>0.0</td>\n",
       "      <td>1.0</td>\n",
       "    </tr>\n",
       "    <tr>\n",
       "      <th>890</th>\n",
       "      <td>1.0</td>\n",
       "      <td>26.000000</td>\n",
       "      <td>0.0</td>\n",
       "      <td>0.0</td>\n",
       "      <td>30.000000</td>\n",
       "      <td>1.0</td>\n",
       "      <td>0.0</td>\n",
       "      <td>0.0</td>\n",
       "    </tr>\n",
       "    <tr>\n",
       "      <th>891</th>\n",
       "      <td>3.0</td>\n",
       "      <td>32.000000</td>\n",
       "      <td>0.0</td>\n",
       "      <td>0.0</td>\n",
       "      <td>7.750000</td>\n",
       "      <td>1.0</td>\n",
       "      <td>1.0</td>\n",
       "      <td>0.0</td>\n",
       "    </tr>\n",
       "  </tbody>\n",
       "</table>\n",
       "<p>889 rows × 8 columns</p>\n",
       "</div>"
      ],
      "text/plain": [
       "             Pclass        Age  SibSp  Parch       Fare  Sex_male  Embarked_Q  \\\n",
       "PassengerId                                                                     \n",
       "1               3.0  22.000000    1.0    0.0   7.250000       1.0         0.0   \n",
       "2               1.0  38.000000    1.0    0.0  71.283302       0.0         0.0   \n",
       "3               3.0  26.000000    0.0    0.0   7.925000       0.0         0.0   \n",
       "4               1.0  35.000000    1.0    0.0  53.099998       0.0         0.0   \n",
       "5               3.0  35.000000    0.0    0.0   8.050000       1.0         0.0   \n",
       "...             ...        ...    ...    ...        ...       ...         ...   \n",
       "887             2.0  27.000000    0.0    0.0  13.000000       1.0         0.0   \n",
       "888             1.0  19.000000    0.0    0.0  30.000000       0.0         0.0   \n",
       "889             3.0  29.699118    1.0    2.0  23.450001       0.0         0.0   \n",
       "890             1.0  26.000000    0.0    0.0  30.000000       1.0         0.0   \n",
       "891             3.0  32.000000    0.0    0.0   7.750000       1.0         1.0   \n",
       "\n",
       "             Embarked_S  \n",
       "PassengerId              \n",
       "1                   1.0  \n",
       "2                   0.0  \n",
       "3                   1.0  \n",
       "4                   1.0  \n",
       "5                   1.0  \n",
       "...                 ...  \n",
       "887                 1.0  \n",
       "888                 1.0  \n",
       "889                 1.0  \n",
       "890                 0.0  \n",
       "891                 0.0  \n",
       "\n",
       "[889 rows x 8 columns]"
      ]
     },
     "execution_count": 31,
     "metadata": {},
     "output_type": "execute_result"
    }
   ],
   "source": [
    "X"
   ]
  },
  {
   "cell_type": "code",
   "execution_count": 32,
   "id": "1808e393",
   "metadata": {
    "execution": {
     "iopub.execute_input": "2024-07-21T13:13:33.895686Z",
     "iopub.status.busy": "2024-07-21T13:13:33.895159Z",
     "iopub.status.idle": "2024-07-21T13:13:33.900562Z",
     "shell.execute_reply": "2024-07-21T13:13:33.899442Z"
    },
    "papermill": {
     "duration": 0.040497,
     "end_time": "2024-07-21T13:13:33.903540",
     "exception": false,
     "start_time": "2024-07-21T13:13:33.863043",
     "status": "completed"
    },
    "tags": []
   },
   "outputs": [],
   "source": [
    "scalar = StandardScaler()"
   ]
  },
  {
   "cell_type": "code",
   "execution_count": 33,
   "id": "cb4a551a",
   "metadata": {
    "execution": {
     "iopub.execute_input": "2024-07-21T13:13:33.973414Z",
     "iopub.status.busy": "2024-07-21T13:13:33.972854Z",
     "iopub.status.idle": "2024-07-21T13:13:33.985842Z",
     "shell.execute_reply": "2024-07-21T13:13:33.984529Z"
    },
    "papermill": {
     "duration": 0.049902,
     "end_time": "2024-07-21T13:13:33.988987",
     "exception": false,
     "start_time": "2024-07-21T13:13:33.939085",
     "status": "completed"
    },
    "tags": []
   },
   "outputs": [],
   "source": [
    "X = scalar.fit_transform(X)"
   ]
  },
  {
   "cell_type": "code",
   "execution_count": 34,
   "id": "344962a4",
   "metadata": {
    "execution": {
     "iopub.execute_input": "2024-07-21T13:13:34.040762Z",
     "iopub.status.busy": "2024-07-21T13:13:34.040200Z",
     "iopub.status.idle": "2024-07-21T13:13:34.052420Z",
     "shell.execute_reply": "2024-07-21T13:13:34.051219Z"
    },
    "papermill": {
     "duration": 0.041243,
     "end_time": "2024-07-21T13:13:34.055289",
     "exception": false,
     "start_time": "2024-07-21T13:13:34.014046",
     "status": "completed"
    },
    "tags": []
   },
   "outputs": [],
   "source": [
    "x_train, x_test, y_train, y_test = train_test_split(X,Y, test_size = 0.2, random_state=42)"
   ]
  },
  {
   "cell_type": "code",
   "execution_count": 35,
   "id": "12fdd609",
   "metadata": {
    "execution": {
     "iopub.execute_input": "2024-07-21T13:13:34.106514Z",
     "iopub.status.busy": "2024-07-21T13:13:34.105412Z",
     "iopub.status.idle": "2024-07-21T13:13:34.116148Z",
     "shell.execute_reply": "2024-07-21T13:13:34.114912Z"
    },
    "papermill": {
     "duration": 0.03897,
     "end_time": "2024-07-21T13:13:34.118724",
     "exception": false,
     "start_time": "2024-07-21T13:13:34.079754",
     "status": "completed"
    },
    "tags": []
   },
   "outputs": [
    {
     "data": {
      "text/plain": [
       "(array([[-1.5722111 , -0.59049493, -0.47519907, ..., -1.3599113 ,\n",
       "         -0.3079409 ,  0.61679393],\n",
       "        [ 0.82520866,  0.00352373,  0.43135026, ..., -1.3599113 ,\n",
       "         -0.3079409 , -1.621287  ],\n",
       "        [ 0.82520866,  0.18104628, -0.47519907, ...,  0.735342  ,\n",
       "         -0.3079409 ,  0.61679393],\n",
       "        ...,\n",
       "        [-1.5722111 ,  1.4155122 , -0.47519907, ..., -1.3599113 ,\n",
       "         -0.3079409 ,  0.61679393],\n",
       "        [ 0.82520866, -0.66764903,  1.3378996 , ..., -1.3599113 ,\n",
       "         -0.3079409 ,  0.61679393],\n",
       "        [ 0.82520866,  0.2582004 , -0.47519907, ...,  0.735342  ,\n",
       "         -0.3079409 ,  0.61679393]], dtype=float32),\n",
       " PassengerId\n",
       " 709    1\n",
       " 241    0\n",
       " 383    0\n",
       " 793    0\n",
       " 684    0\n",
       "       ..\n",
       " 108    1\n",
       " 272    1\n",
       " 863    1\n",
       " 437    0\n",
       " 104    0\n",
       " Name: Survived, Length: 711, dtype: int8)"
      ]
     },
     "execution_count": 35,
     "metadata": {},
     "output_type": "execute_result"
    }
   ],
   "source": [
    "x_train, y_train"
   ]
  },
  {
   "cell_type": "code",
   "execution_count": 36,
   "id": "c0671b1c",
   "metadata": {
    "execution": {
     "iopub.execute_input": "2024-07-21T13:13:34.169586Z",
     "iopub.status.busy": "2024-07-21T13:13:34.169058Z",
     "iopub.status.idle": "2024-07-21T13:13:34.174897Z",
     "shell.execute_reply": "2024-07-21T13:13:34.173663Z"
    },
    "papermill": {
     "duration": 0.033896,
     "end_time": "2024-07-21T13:13:34.177554",
     "exception": false,
     "start_time": "2024-07-21T13:13:34.143658",
     "status": "completed"
    },
    "tags": []
   },
   "outputs": [],
   "source": [
    "logistic_regressor = LogisticRegression()"
   ]
  },
  {
   "cell_type": "code",
   "execution_count": 37,
   "id": "a95aff75",
   "metadata": {
    "execution": {
     "iopub.execute_input": "2024-07-21T13:13:34.230495Z",
     "iopub.status.busy": "2024-07-21T13:13:34.229276Z",
     "iopub.status.idle": "2024-07-21T13:13:34.257164Z",
     "shell.execute_reply": "2024-07-21T13:13:34.255827Z"
    },
    "papermill": {
     "duration": 0.056938,
     "end_time": "2024-07-21T13:13:34.260038",
     "exception": false,
     "start_time": "2024-07-21T13:13:34.203100",
     "status": "completed"
    },
    "tags": []
   },
   "outputs": [
    {
     "data": {
      "text/html": [
       "<style>#sk-container-id-1 {color: black;background-color: white;}#sk-container-id-1 pre{padding: 0;}#sk-container-id-1 div.sk-toggleable {background-color: white;}#sk-container-id-1 label.sk-toggleable__label {cursor: pointer;display: block;width: 100%;margin-bottom: 0;padding: 0.3em;box-sizing: border-box;text-align: center;}#sk-container-id-1 label.sk-toggleable__label-arrow:before {content: \"▸\";float: left;margin-right: 0.25em;color: #696969;}#sk-container-id-1 label.sk-toggleable__label-arrow:hover:before {color: black;}#sk-container-id-1 div.sk-estimator:hover label.sk-toggleable__label-arrow:before {color: black;}#sk-container-id-1 div.sk-toggleable__content {max-height: 0;max-width: 0;overflow: hidden;text-align: left;background-color: #f0f8ff;}#sk-container-id-1 div.sk-toggleable__content pre {margin: 0.2em;color: black;border-radius: 0.25em;background-color: #f0f8ff;}#sk-container-id-1 input.sk-toggleable__control:checked~div.sk-toggleable__content {max-height: 200px;max-width: 100%;overflow: auto;}#sk-container-id-1 input.sk-toggleable__control:checked~label.sk-toggleable__label-arrow:before {content: \"▾\";}#sk-container-id-1 div.sk-estimator input.sk-toggleable__control:checked~label.sk-toggleable__label {background-color: #d4ebff;}#sk-container-id-1 div.sk-label input.sk-toggleable__control:checked~label.sk-toggleable__label {background-color: #d4ebff;}#sk-container-id-1 input.sk-hidden--visually {border: 0;clip: rect(1px 1px 1px 1px);clip: rect(1px, 1px, 1px, 1px);height: 1px;margin: -1px;overflow: hidden;padding: 0;position: absolute;width: 1px;}#sk-container-id-1 div.sk-estimator {font-family: monospace;background-color: #f0f8ff;border: 1px dotted black;border-radius: 0.25em;box-sizing: border-box;margin-bottom: 0.5em;}#sk-container-id-1 div.sk-estimator:hover {background-color: #d4ebff;}#sk-container-id-1 div.sk-parallel-item::after {content: \"\";width: 100%;border-bottom: 1px solid gray;flex-grow: 1;}#sk-container-id-1 div.sk-label:hover label.sk-toggleable__label {background-color: #d4ebff;}#sk-container-id-1 div.sk-serial::before {content: \"\";position: absolute;border-left: 1px solid gray;box-sizing: border-box;top: 0;bottom: 0;left: 50%;z-index: 0;}#sk-container-id-1 div.sk-serial {display: flex;flex-direction: column;align-items: center;background-color: white;padding-right: 0.2em;padding-left: 0.2em;position: relative;}#sk-container-id-1 div.sk-item {position: relative;z-index: 1;}#sk-container-id-1 div.sk-parallel {display: flex;align-items: stretch;justify-content: center;background-color: white;position: relative;}#sk-container-id-1 div.sk-item::before, #sk-container-id-1 div.sk-parallel-item::before {content: \"\";position: absolute;border-left: 1px solid gray;box-sizing: border-box;top: 0;bottom: 0;left: 50%;z-index: -1;}#sk-container-id-1 div.sk-parallel-item {display: flex;flex-direction: column;z-index: 1;position: relative;background-color: white;}#sk-container-id-1 div.sk-parallel-item:first-child::after {align-self: flex-end;width: 50%;}#sk-container-id-1 div.sk-parallel-item:last-child::after {align-self: flex-start;width: 50%;}#sk-container-id-1 div.sk-parallel-item:only-child::after {width: 0;}#sk-container-id-1 div.sk-dashed-wrapped {border: 1px dashed gray;margin: 0 0.4em 0.5em 0.4em;box-sizing: border-box;padding-bottom: 0.4em;background-color: white;}#sk-container-id-1 div.sk-label label {font-family: monospace;font-weight: bold;display: inline-block;line-height: 1.2em;}#sk-container-id-1 div.sk-label-container {text-align: center;}#sk-container-id-1 div.sk-container {/* jupyter's `normalize.less` sets `[hidden] { display: none; }` but bootstrap.min.css set `[hidden] { display: none !important; }` so we also need the `!important` here to be able to override the default hidden behavior on the sphinx rendered scikit-learn.org. See: https://github.com/scikit-learn/scikit-learn/issues/21755 */display: inline-block !important;position: relative;}#sk-container-id-1 div.sk-text-repr-fallback {display: none;}</style><div id=\"sk-container-id-1\" class=\"sk-top-container\"><div class=\"sk-text-repr-fallback\"><pre>LogisticRegression()</pre><b>In a Jupyter environment, please rerun this cell to show the HTML representation or trust the notebook. <br />On GitHub, the HTML representation is unable to render, please try loading this page with nbviewer.org.</b></div><div class=\"sk-container\" hidden><div class=\"sk-item\"><div class=\"sk-estimator sk-toggleable\"><input class=\"sk-toggleable__control sk-hidden--visually\" id=\"sk-estimator-id-1\" type=\"checkbox\" checked><label for=\"sk-estimator-id-1\" class=\"sk-toggleable__label sk-toggleable__label-arrow\">LogisticRegression</label><div class=\"sk-toggleable__content\"><pre>LogisticRegression()</pre></div></div></div></div></div>"
      ],
      "text/plain": [
       "LogisticRegression()"
      ]
     },
     "execution_count": 37,
     "metadata": {},
     "output_type": "execute_result"
    }
   ],
   "source": [
    "logistic_regressor.fit(x_train, y_train)"
   ]
  },
  {
   "cell_type": "code",
   "execution_count": 38,
   "id": "b705665b",
   "metadata": {
    "execution": {
     "iopub.execute_input": "2024-07-21T13:13:34.315921Z",
     "iopub.status.busy": "2024-07-21T13:13:34.315530Z",
     "iopub.status.idle": "2024-07-21T13:13:34.321614Z",
     "shell.execute_reply": "2024-07-21T13:13:34.320071Z"
    },
    "papermill": {
     "duration": 0.035361,
     "end_time": "2024-07-21T13:13:34.324223",
     "exception": false,
     "start_time": "2024-07-21T13:13:34.288862",
     "status": "completed"
    },
    "tags": []
   },
   "outputs": [],
   "source": [
    "y_pred = logistic_regressor.predict(x_test)"
   ]
  },
  {
   "cell_type": "code",
   "execution_count": 39,
   "id": "bf3456d3",
   "metadata": {
    "execution": {
     "iopub.execute_input": "2024-07-21T13:13:34.374878Z",
     "iopub.status.busy": "2024-07-21T13:13:34.374487Z",
     "iopub.status.idle": "2024-07-21T13:13:34.382729Z",
     "shell.execute_reply": "2024-07-21T13:13:34.381487Z"
    },
    "papermill": {
     "duration": 0.036391,
     "end_time": "2024-07-21T13:13:34.385228",
     "exception": false,
     "start_time": "2024-07-21T13:13:34.348837",
     "status": "completed"
    },
    "tags": []
   },
   "outputs": [
    {
     "data": {
      "text/plain": [
       "array([0, 1, 1, 0, 1, 0, 0, 0, 1, 1, 0, 1, 0, 0, 0, 0, 0, 0, 0, 0, 0, 1,\n",
       "       0, 1, 0, 1, 0, 1, 1, 0, 1, 1, 0, 1, 0, 0, 1, 1, 0, 0, 0, 1, 0, 0,\n",
       "       0, 1, 1, 0, 0, 1, 1, 1, 0, 0, 1, 1, 1, 0, 0, 0, 0, 1, 1, 0, 1, 0,\n",
       "       0, 0, 1, 1, 0, 1, 1, 0, 0, 1, 0, 0, 1, 1, 0, 1, 1, 1, 0, 0, 0, 0,\n",
       "       0, 0, 0, 1, 0, 0, 0, 1, 0, 0, 0, 0, 0, 1, 1, 0, 0, 0, 1, 1, 0, 0,\n",
       "       0, 1, 0, 1, 0, 0, 0, 0, 1, 0, 0, 1, 0, 0, 1, 1, 1, 1, 1, 0, 1, 0,\n",
       "       0, 0, 1, 1, 0, 1, 1, 1, 1, 0, 1, 1, 1, 0, 0, 1, 0, 1, 0, 1, 0, 1,\n",
       "       0, 1, 1, 0, 0, 1, 0, 1, 0, 0, 0, 1, 1, 0, 0, 1, 1, 1, 1, 0, 1, 0,\n",
       "       0, 1], dtype=int8)"
      ]
     },
     "execution_count": 39,
     "metadata": {},
     "output_type": "execute_result"
    }
   ],
   "source": [
    "y_pred"
   ]
  },
  {
   "cell_type": "code",
   "execution_count": 40,
   "id": "a2f29dc2",
   "metadata": {
    "execution": {
     "iopub.execute_input": "2024-07-21T13:13:34.437591Z",
     "iopub.status.busy": "2024-07-21T13:13:34.437142Z",
     "iopub.status.idle": "2024-07-21T13:13:34.446825Z",
     "shell.execute_reply": "2024-07-21T13:13:34.445567Z"
    },
    "papermill": {
     "duration": 0.039676,
     "end_time": "2024-07-21T13:13:34.449951",
     "exception": false,
     "start_time": "2024-07-21T13:13:34.410275",
     "status": "completed"
    },
    "tags": []
   },
   "outputs": [
    {
     "data": {
      "text/plain": [
       "0.7752808988764045"
      ]
     },
     "execution_count": 40,
     "metadata": {},
     "output_type": "execute_result"
    }
   ],
   "source": [
    "accuracy_score(y_test, y_pred)"
   ]
  },
  {
   "cell_type": "code",
   "execution_count": 41,
   "id": "f44e99b6",
   "metadata": {
    "collapsed": true,
    "execution": {
     "iopub.execute_input": "2024-07-21T13:13:34.503828Z",
     "iopub.status.busy": "2024-07-21T13:13:34.503391Z",
     "iopub.status.idle": "2024-07-21T13:13:34.512958Z",
     "shell.execute_reply": "2024-07-21T13:13:34.511542Z"
    },
    "jupyter": {
     "outputs_hidden": true
    },
    "papermill": {
     "duration": 0.040963,
     "end_time": "2024-07-21T13:13:34.515723",
     "exception": false,
     "start_time": "2024-07-21T13:13:34.474760",
     "status": "completed"
    },
    "tags": []
   },
   "outputs": [
    {
     "data": {
      "text/plain": [
       "['penalty',\n",
       " 'dual',\n",
       " 'tol',\n",
       " 'C',\n",
       " 'fit_intercept',\n",
       " 'intercept_scaling',\n",
       " 'class_weight',\n",
       " 'random_state',\n",
       " 'solver',\n",
       " 'max_iter',\n",
       " 'multi_class',\n",
       " 'verbose',\n",
       " 'warm_start',\n",
       " 'n_jobs',\n",
       " 'l1_ratio',\n",
       " 'n_features_in_',\n",
       " 'classes_',\n",
       " 'n_iter_',\n",
       " 'coef_',\n",
       " 'intercept_',\n",
       " '__module__',\n",
       " '__annotations__',\n",
       " '__doc__',\n",
       " '_parameter_constraints',\n",
       " '__init__',\n",
       " 'fit',\n",
       " 'predict_proba',\n",
       " 'predict_log_proba',\n",
       " 'decision_function',\n",
       " 'predict',\n",
       " '_predict_proba_lr',\n",
       " '_estimator_type',\n",
       " 'score',\n",
       " '_more_tags',\n",
       " '__dict__',\n",
       " '__weakref__',\n",
       " '__new__',\n",
       " '__repr__',\n",
       " '__hash__',\n",
       " '__str__',\n",
       " '__getattribute__',\n",
       " '__setattr__',\n",
       " '__delattr__',\n",
       " '__lt__',\n",
       " '__le__',\n",
       " '__eq__',\n",
       " '__ne__',\n",
       " '__gt__',\n",
       " '__ge__',\n",
       " '__reduce_ex__',\n",
       " '__reduce__',\n",
       " '__subclasshook__',\n",
       " '__init_subclass__',\n",
       " '__format__',\n",
       " '__sizeof__',\n",
       " '__dir__',\n",
       " '__class__',\n",
       " 'densify',\n",
       " 'sparsify',\n",
       " '_get_param_names',\n",
       " 'get_params',\n",
       " 'set_params',\n",
       " '__getstate__',\n",
       " '__setstate__',\n",
       " '_get_tags',\n",
       " '_check_n_features',\n",
       " '_check_feature_names',\n",
       " '_validate_data',\n",
       " '_validate_params',\n",
       " '_repr_html_',\n",
       " '_repr_html_inner',\n",
       " '_repr_mimebundle_']"
      ]
     },
     "execution_count": 41,
     "metadata": {},
     "output_type": "execute_result"
    }
   ],
   "source": [
    "logistic_regressor.__dir__()"
   ]
  },
  {
   "cell_type": "code",
   "execution_count": 42,
   "id": "4f1b1a52",
   "metadata": {
    "execution": {
     "iopub.execute_input": "2024-07-21T13:13:34.568192Z",
     "iopub.status.busy": "2024-07-21T13:13:34.567764Z",
     "iopub.status.idle": "2024-07-21T13:13:34.575370Z",
     "shell.execute_reply": "2024-07-21T13:13:34.574283Z"
    },
    "papermill": {
     "duration": 0.03676,
     "end_time": "2024-07-21T13:13:34.578033",
     "exception": false,
     "start_time": "2024-07-21T13:13:34.541273",
     "status": "completed"
    },
    "tags": []
   },
   "outputs": [
    {
     "data": {
      "text/plain": [
       "{'C': 1.0,\n",
       " 'class_weight': None,\n",
       " 'dual': False,\n",
       " 'fit_intercept': True,\n",
       " 'intercept_scaling': 1,\n",
       " 'l1_ratio': None,\n",
       " 'max_iter': 100,\n",
       " 'multi_class': 'auto',\n",
       " 'n_jobs': None,\n",
       " 'penalty': 'l2',\n",
       " 'random_state': None,\n",
       " 'solver': 'lbfgs',\n",
       " 'tol': 0.0001,\n",
       " 'verbose': 0,\n",
       " 'warm_start': False}"
      ]
     },
     "execution_count": 42,
     "metadata": {},
     "output_type": "execute_result"
    }
   ],
   "source": [
    "logistic_regressor.get_params()"
   ]
  },
  {
   "cell_type": "code",
   "execution_count": 43,
   "id": "4c9392a9",
   "metadata": {
    "execution": {
     "iopub.execute_input": "2024-07-21T13:13:34.635873Z",
     "iopub.status.busy": "2024-07-21T13:13:34.635449Z",
     "iopub.status.idle": "2024-07-21T13:13:34.643747Z",
     "shell.execute_reply": "2024-07-21T13:13:34.642361Z"
    },
    "papermill": {
     "duration": 0.040389,
     "end_time": "2024-07-21T13:13:34.646385",
     "exception": false,
     "start_time": "2024-07-21T13:13:34.605996",
     "status": "completed"
    },
    "tags": []
   },
   "outputs": [
    {
     "data": {
      "text/plain": [
       "array([[-0.95242841, -0.56859013, -0.42071146, -0.05554756,  0.07778867,\n",
       "        -1.30513168, -0.02405184, -0.23438391]])"
      ]
     },
     "execution_count": 43,
     "metadata": {},
     "output_type": "execute_result"
    }
   ],
   "source": [
    "logistic_regressor.coef_"
   ]
  },
  {
   "cell_type": "code",
   "execution_count": 44,
   "id": "5e53e590",
   "metadata": {
    "execution": {
     "iopub.execute_input": "2024-07-21T13:13:34.700720Z",
     "iopub.status.busy": "2024-07-21T13:13:34.700269Z",
     "iopub.status.idle": "2024-07-21T13:13:34.707808Z",
     "shell.execute_reply": "2024-07-21T13:13:34.706650Z"
    },
    "papermill": {
     "duration": 0.038144,
     "end_time": "2024-07-21T13:13:34.710503",
     "exception": false,
     "start_time": "2024-07-21T13:13:34.672359",
     "status": "completed"
    },
    "tags": []
   },
   "outputs": [],
   "source": [
    "r_sqr = logistic_regressor.score(x_train, y_train)"
   ]
  },
  {
   "cell_type": "code",
   "execution_count": 45,
   "id": "5820ff18",
   "metadata": {
    "execution": {
     "iopub.execute_input": "2024-07-21T13:13:34.765482Z",
     "iopub.status.busy": "2024-07-21T13:13:34.764320Z",
     "iopub.status.idle": "2024-07-21T13:13:34.772061Z",
     "shell.execute_reply": "2024-07-21T13:13:34.770860Z"
    },
    "papermill": {
     "duration": 0.038861,
     "end_time": "2024-07-21T13:13:34.774615",
     "exception": false,
     "start_time": "2024-07-21T13:13:34.735754",
     "status": "completed"
    },
    "tags": []
   },
   "outputs": [
    {
     "data": {
      "text/plain": [
       "0.7988748241912799"
      ]
     },
     "execution_count": 45,
     "metadata": {},
     "output_type": "execute_result"
    }
   ],
   "source": [
    "r_sqr"
   ]
  },
  {
   "cell_type": "code",
   "execution_count": 46,
   "id": "00efdaa4",
   "metadata": {
    "execution": {
     "iopub.execute_input": "2024-07-21T13:13:34.827319Z",
     "iopub.status.busy": "2024-07-21T13:13:34.826904Z",
     "iopub.status.idle": "2024-07-21T13:13:34.832637Z",
     "shell.execute_reply": "2024-07-21T13:13:34.831417Z"
    },
    "papermill": {
     "duration": 0.035419,
     "end_time": "2024-07-21T13:13:34.835412",
     "exception": false,
     "start_time": "2024-07-21T13:13:34.799993",
     "status": "completed"
    },
    "tags": []
   },
   "outputs": [],
   "source": [
    "n = x_train.shape[0]\n",
    "p = x_train.shape[1]"
   ]
  },
  {
   "cell_type": "code",
   "execution_count": 47,
   "id": "25808c1d",
   "metadata": {
    "execution": {
     "iopub.execute_input": "2024-07-21T13:13:34.892097Z",
     "iopub.status.busy": "2024-07-21T13:13:34.891695Z",
     "iopub.status.idle": "2024-07-21T13:13:34.898488Z",
     "shell.execute_reply": "2024-07-21T13:13:34.896963Z"
    },
    "papermill": {
     "duration": 0.039243,
     "end_time": "2024-07-21T13:13:34.901666",
     "exception": false,
     "start_time": "2024-07-21T13:13:34.862423",
     "status": "completed"
    },
    "tags": []
   },
   "outputs": [],
   "source": [
    "adj_r_sqr = 1 - (1-r_sqr)*(n-1)/(n-p-1)"
   ]
  },
  {
   "cell_type": "code",
   "execution_count": 48,
   "id": "a6115de6",
   "metadata": {
    "execution": {
     "iopub.execute_input": "2024-07-21T13:13:34.956922Z",
     "iopub.status.busy": "2024-07-21T13:13:34.956511Z",
     "iopub.status.idle": "2024-07-21T13:13:34.963849Z",
     "shell.execute_reply": "2024-07-21T13:13:34.962607Z"
    },
    "papermill": {
     "duration": 0.03695,
     "end_time": "2024-07-21T13:13:34.966524",
     "exception": false,
     "start_time": "2024-07-21T13:13:34.929574",
     "status": "completed"
    },
    "tags": []
   },
   "outputs": [
    {
     "data": {
      "text/plain": [
       "0.7965827993957388"
      ]
     },
     "execution_count": 48,
     "metadata": {},
     "output_type": "execute_result"
    }
   ],
   "source": [
    "adj_r_sqr"
   ]
  },
  {
   "cell_type": "code",
   "execution_count": 49,
   "id": "ffbfeab5",
   "metadata": {
    "execution": {
     "iopub.execute_input": "2024-07-21T13:13:35.020989Z",
     "iopub.status.busy": "2024-07-21T13:13:35.020206Z",
     "iopub.status.idle": "2024-07-21T13:13:35.031290Z",
     "shell.execute_reply": "2024-07-21T13:13:35.030165Z"
    },
    "papermill": {
     "duration": 0.040794,
     "end_time": "2024-07-21T13:13:35.033865",
     "exception": false,
     "start_time": "2024-07-21T13:13:34.993071",
     "status": "completed"
    },
    "tags": []
   },
   "outputs": [
    {
     "data": {
      "text/plain": [
       "(array([8.70143415e+01, 2.63009945e+00, 2.55709577e+00, 3.44980552e+00,\n",
       "        4.58429116e+01, 2.80990370e+02, 3.62510491e-03, 1.73907789e+01]),\n",
       " array([1.34871615e-19, 1.05299725e-01, 1.10245631e-01, 6.36736588e-02,\n",
       "        2.68971294e-11, 2.24552137e-53, 9.52006269e-01, 3.42002192e-05]))"
      ]
     },
     "execution_count": 49,
     "metadata": {},
     "output_type": "execute_result"
    }
   ],
   "source": [
    "f_regression(x_train,y_train)"
   ]
  },
  {
   "cell_type": "code",
   "execution_count": 50,
   "id": "8bc2ba02",
   "metadata": {
    "execution": {
     "iopub.execute_input": "2024-07-21T13:13:35.089042Z",
     "iopub.status.busy": "2024-07-21T13:13:35.088613Z",
     "iopub.status.idle": "2024-07-21T13:13:35.097425Z",
     "shell.execute_reply": "2024-07-21T13:13:35.096184Z"
    },
    "papermill": {
     "duration": 0.039459,
     "end_time": "2024-07-21T13:13:35.100027",
     "exception": false,
     "start_time": "2024-07-21T13:13:35.060568",
     "status": "completed"
    },
    "tags": []
   },
   "outputs": [
    {
     "data": {
      "text/plain": [
       "array([[-1.5722111 ,  2.404961  , -1.3599113 ,  0.61679393],\n",
       "       [ 0.82520866, -0.35519713, -1.3599113 , -1.621287  ],\n",
       "       [ 0.82520866, -0.48664993,  0.735342  ,  0.61679393],\n",
       "       ...,\n",
       "       [-1.5722111 , -0.12417029, -1.3599113 ,  0.61679393],\n",
       "       [ 0.82520866,  0.04586954, -1.3599113 ,  0.61679393],\n",
       "       [ 0.82520866, -0.47196892,  0.735342  ,  0.61679393]],\n",
       "      dtype=float32)"
      ]
     },
     "execution_count": 50,
     "metadata": {},
     "output_type": "execute_result"
    }
   ],
   "source": [
    "x_train[:,[0,4,5,7]]"
   ]
  },
  {
   "cell_type": "code",
   "execution_count": 51,
   "id": "3d0f05b0",
   "metadata": {
    "execution": {
     "iopub.execute_input": "2024-07-21T13:13:35.153599Z",
     "iopub.status.busy": "2024-07-21T13:13:35.153171Z",
     "iopub.status.idle": "2024-07-21T13:13:35.158952Z",
     "shell.execute_reply": "2024-07-21T13:13:35.157664Z"
    },
    "papermill": {
     "duration": 0.035573,
     "end_time": "2024-07-21T13:13:35.161737",
     "exception": false,
     "start_time": "2024-07-21T13:13:35.126164",
     "status": "completed"
    },
    "tags": []
   },
   "outputs": [],
   "source": [
    "new_regressor = LogisticRegression()"
   ]
  },
  {
   "cell_type": "code",
   "execution_count": 52,
   "id": "3af56303",
   "metadata": {
    "execution": {
     "iopub.execute_input": "2024-07-21T13:13:35.216472Z",
     "iopub.status.busy": "2024-07-21T13:13:35.216036Z",
     "iopub.status.idle": "2024-07-21T13:13:35.230090Z",
     "shell.execute_reply": "2024-07-21T13:13:35.228845Z"
    },
    "papermill": {
     "duration": 0.043848,
     "end_time": "2024-07-21T13:13:35.232843",
     "exception": false,
     "start_time": "2024-07-21T13:13:35.188995",
     "status": "completed"
    },
    "tags": []
   },
   "outputs": [
    {
     "data": {
      "text/html": [
       "<style>#sk-container-id-2 {color: black;background-color: white;}#sk-container-id-2 pre{padding: 0;}#sk-container-id-2 div.sk-toggleable {background-color: white;}#sk-container-id-2 label.sk-toggleable__label {cursor: pointer;display: block;width: 100%;margin-bottom: 0;padding: 0.3em;box-sizing: border-box;text-align: center;}#sk-container-id-2 label.sk-toggleable__label-arrow:before {content: \"▸\";float: left;margin-right: 0.25em;color: #696969;}#sk-container-id-2 label.sk-toggleable__label-arrow:hover:before {color: black;}#sk-container-id-2 div.sk-estimator:hover label.sk-toggleable__label-arrow:before {color: black;}#sk-container-id-2 div.sk-toggleable__content {max-height: 0;max-width: 0;overflow: hidden;text-align: left;background-color: #f0f8ff;}#sk-container-id-2 div.sk-toggleable__content pre {margin: 0.2em;color: black;border-radius: 0.25em;background-color: #f0f8ff;}#sk-container-id-2 input.sk-toggleable__control:checked~div.sk-toggleable__content {max-height: 200px;max-width: 100%;overflow: auto;}#sk-container-id-2 input.sk-toggleable__control:checked~label.sk-toggleable__label-arrow:before {content: \"▾\";}#sk-container-id-2 div.sk-estimator input.sk-toggleable__control:checked~label.sk-toggleable__label {background-color: #d4ebff;}#sk-container-id-2 div.sk-label input.sk-toggleable__control:checked~label.sk-toggleable__label {background-color: #d4ebff;}#sk-container-id-2 input.sk-hidden--visually {border: 0;clip: rect(1px 1px 1px 1px);clip: rect(1px, 1px, 1px, 1px);height: 1px;margin: -1px;overflow: hidden;padding: 0;position: absolute;width: 1px;}#sk-container-id-2 div.sk-estimator {font-family: monospace;background-color: #f0f8ff;border: 1px dotted black;border-radius: 0.25em;box-sizing: border-box;margin-bottom: 0.5em;}#sk-container-id-2 div.sk-estimator:hover {background-color: #d4ebff;}#sk-container-id-2 div.sk-parallel-item::after {content: \"\";width: 100%;border-bottom: 1px solid gray;flex-grow: 1;}#sk-container-id-2 div.sk-label:hover label.sk-toggleable__label {background-color: #d4ebff;}#sk-container-id-2 div.sk-serial::before {content: \"\";position: absolute;border-left: 1px solid gray;box-sizing: border-box;top: 0;bottom: 0;left: 50%;z-index: 0;}#sk-container-id-2 div.sk-serial {display: flex;flex-direction: column;align-items: center;background-color: white;padding-right: 0.2em;padding-left: 0.2em;position: relative;}#sk-container-id-2 div.sk-item {position: relative;z-index: 1;}#sk-container-id-2 div.sk-parallel {display: flex;align-items: stretch;justify-content: center;background-color: white;position: relative;}#sk-container-id-2 div.sk-item::before, #sk-container-id-2 div.sk-parallel-item::before {content: \"\";position: absolute;border-left: 1px solid gray;box-sizing: border-box;top: 0;bottom: 0;left: 50%;z-index: -1;}#sk-container-id-2 div.sk-parallel-item {display: flex;flex-direction: column;z-index: 1;position: relative;background-color: white;}#sk-container-id-2 div.sk-parallel-item:first-child::after {align-self: flex-end;width: 50%;}#sk-container-id-2 div.sk-parallel-item:last-child::after {align-self: flex-start;width: 50%;}#sk-container-id-2 div.sk-parallel-item:only-child::after {width: 0;}#sk-container-id-2 div.sk-dashed-wrapped {border: 1px dashed gray;margin: 0 0.4em 0.5em 0.4em;box-sizing: border-box;padding-bottom: 0.4em;background-color: white;}#sk-container-id-2 div.sk-label label {font-family: monospace;font-weight: bold;display: inline-block;line-height: 1.2em;}#sk-container-id-2 div.sk-label-container {text-align: center;}#sk-container-id-2 div.sk-container {/* jupyter's `normalize.less` sets `[hidden] { display: none; }` but bootstrap.min.css set `[hidden] { display: none !important; }` so we also need the `!important` here to be able to override the default hidden behavior on the sphinx rendered scikit-learn.org. See: https://github.com/scikit-learn/scikit-learn/issues/21755 */display: inline-block !important;position: relative;}#sk-container-id-2 div.sk-text-repr-fallback {display: none;}</style><div id=\"sk-container-id-2\" class=\"sk-top-container\"><div class=\"sk-text-repr-fallback\"><pre>LogisticRegression()</pre><b>In a Jupyter environment, please rerun this cell to show the HTML representation or trust the notebook. <br />On GitHub, the HTML representation is unable to render, please try loading this page with nbviewer.org.</b></div><div class=\"sk-container\" hidden><div class=\"sk-item\"><div class=\"sk-estimator sk-toggleable\"><input class=\"sk-toggleable__control sk-hidden--visually\" id=\"sk-estimator-id-2\" type=\"checkbox\" checked><label for=\"sk-estimator-id-2\" class=\"sk-toggleable__label sk-toggleable__label-arrow\">LogisticRegression</label><div class=\"sk-toggleable__content\"><pre>LogisticRegression()</pre></div></div></div></div></div>"
      ],
      "text/plain": [
       "LogisticRegression()"
      ]
     },
     "execution_count": 52,
     "metadata": {},
     "output_type": "execute_result"
    }
   ],
   "source": [
    "new_regressor.fit(x_train[:,[0,4,5,7]], y_train)"
   ]
  },
  {
   "cell_type": "code",
   "execution_count": 53,
   "id": "305fd179",
   "metadata": {
    "execution": {
     "iopub.execute_input": "2024-07-21T13:13:35.286757Z",
     "iopub.status.busy": "2024-07-21T13:13:35.286308Z",
     "iopub.status.idle": "2024-07-21T13:13:35.296766Z",
     "shell.execute_reply": "2024-07-21T13:13:35.295729Z"
    },
    "papermill": {
     "duration": 0.040135,
     "end_time": "2024-07-21T13:13:35.299184",
     "exception": false,
     "start_time": "2024-07-21T13:13:35.259049",
     "status": "completed"
    },
    "tags": []
   },
   "outputs": [
    {
     "data": {
      "text/plain": [
       "0.7749648382559775"
      ]
     },
     "execution_count": 53,
     "metadata": {},
     "output_type": "execute_result"
    }
   ],
   "source": [
    "new_regressor.score(x_train[:,[0,4,5,7]], y_train)"
   ]
  },
  {
   "cell_type": "code",
   "execution_count": 54,
   "id": "4f207907",
   "metadata": {
    "execution": {
     "iopub.execute_input": "2024-07-21T13:13:35.353468Z",
     "iopub.status.busy": "2024-07-21T13:13:35.353056Z",
     "iopub.status.idle": "2024-07-21T13:13:35.359258Z",
     "shell.execute_reply": "2024-07-21T13:13:35.358059Z"
    },
    "papermill": {
     "duration": 0.03641,
     "end_time": "2024-07-21T13:13:35.361948",
     "exception": false,
     "start_time": "2024-07-21T13:13:35.325538",
     "status": "completed"
    },
    "tags": []
   },
   "outputs": [],
   "source": [
    "new_y_pred = new_regressor.predict(x_test[:,[0,4,5,7]])"
   ]
  },
  {
   "cell_type": "code",
   "execution_count": 55,
   "id": "1b4dd976",
   "metadata": {
    "execution": {
     "iopub.execute_input": "2024-07-21T13:13:35.416291Z",
     "iopub.status.busy": "2024-07-21T13:13:35.415869Z",
     "iopub.status.idle": "2024-07-21T13:13:35.425317Z",
     "shell.execute_reply": "2024-07-21T13:13:35.424169Z"
    },
    "papermill": {
     "duration": 0.039962,
     "end_time": "2024-07-21T13:13:35.427950",
     "exception": false,
     "start_time": "2024-07-21T13:13:35.387988",
     "status": "completed"
    },
    "tags": []
   },
   "outputs": [
    {
     "data": {
      "text/plain": [
       "0.7808988764044944"
      ]
     },
     "execution_count": 55,
     "metadata": {},
     "output_type": "execute_result"
    }
   ],
   "source": [
    "accuracy_score(y_test, new_y_pred)"
   ]
  },
  {
   "cell_type": "code",
   "execution_count": 56,
   "id": "7b7f55b8",
   "metadata": {
    "execution": {
     "iopub.execute_input": "2024-07-21T13:13:35.483997Z",
     "iopub.status.busy": "2024-07-21T13:13:35.483613Z",
     "iopub.status.idle": "2024-07-21T13:13:35.952116Z",
     "shell.execute_reply": "2024-07-21T13:13:35.950896Z"
    },
    "papermill": {
     "duration": 0.498861,
     "end_time": "2024-07-21T13:13:35.954923",
     "exception": false,
     "start_time": "2024-07-21T13:13:35.456062",
     "status": "completed"
    },
    "tags": []
   },
   "outputs": [
    {
     "data": {
      "text/plain": [
       "<Axes: xlabel='Pclass', ylabel='Survived'>"
      ]
     },
     "execution_count": 56,
     "metadata": {},
     "output_type": "execute_result"
    },
    {
     "data": {
      "image/png": "[encoded data removed]",
      "text/plain": [
       "<Figure size 640x480 with 1 Axes>"
      ]
     },
     "metadata": {},
     "output_type": "display_data"
    }
   ],
   "source": [
    "sns.barplot(dataset, x='Pclass', y = 'Survived')"
   ]
  },
  {
   "cell_type": "code",
   "execution_count": 57,
   "id": "94276cff",
   "metadata": {
    "execution": {
     "iopub.execute_input": "2024-07-21T13:13:36.013661Z",
     "iopub.status.busy": "2024-07-21T13:13:36.013215Z",
     "iopub.status.idle": "2024-07-21T13:13:36.371976Z",
     "shell.execute_reply": "2024-07-21T13:13:36.370706Z"
    },
    "papermill": {
     "duration": 0.391547,
     "end_time": "2024-07-21T13:13:36.374821",
     "exception": false,
     "start_time": "2024-07-21T13:13:35.983274",
     "status": "completed"
    },
    "tags": []
   },
   "outputs": [
    {
     "data": {
      "text/plain": [
       "<Axes: xlabel='Pclass', ylabel='count'>"
      ]
     },
     "execution_count": 57,
     "metadata": {},
     "output_type": "execute_result"
    },
    {
     "data": {
      "image/png": "[encoded data removed]",
      "text/plain": [
       "<Figure size 640x480 with 1 Axes>"
      ]
     },
     "metadata": {},
     "output_type": "display_data"
    }
   ],
   "source": [
    "sns.countplot(dataset, x='Pclass', hue = 'Survived')"
   ]
  },
  {
   "cell_type": "markdown",
   "id": "889389be",
   "metadata": {
    "papermill": {
     "duration": 0.026823,
     "end_time": "2024-07-21T13:13:36.429918",
     "exception": false,
     "start_time": "2024-07-21T13:13:36.403095",
     "status": "completed"
    },
    "tags": []
   },
   "source": [
    "## As per the graphs, it is clear that probability surviving for people from class 1 is much higher than those from class 3"
   ]
  },
  {
   "cell_type": "code",
   "execution_count": 58,
   "id": "cdb478fc",
   "metadata": {
    "execution": {
     "iopub.execute_input": "2024-07-21T13:13:36.489251Z",
     "iopub.status.busy": "2024-07-21T13:13:36.488841Z",
     "iopub.status.idle": "2024-07-21T13:13:36.799921Z",
     "shell.execute_reply": "2024-07-21T13:13:36.798727Z"
    },
    "papermill": {
     "duration": 0.342819,
     "end_time": "2024-07-21T13:13:36.802575",
     "exception": false,
     "start_time": "2024-07-21T13:13:36.459756",
     "status": "completed"
    },
    "tags": []
   },
   "outputs": [
    {
     "data": {
      "text/plain": [
       "<Axes: xlabel='Sex', ylabel='Survived'>"
      ]
     },
     "execution_count": 58,
     "metadata": {},
     "output_type": "execute_result"
    },
    {
     "data": {
      "image/png": "[encoded data removed]",
      "text/plain": [
       "<Figure size 640x480 with 1 Axes>"
      ]
     },
     "metadata": {},
     "output_type": "display_data"
    }
   ],
   "source": [
    "sns.barplot(dataset, x='Sex', y = 'Survived')"
   ]
  },
  {
   "cell_type": "markdown",
   "id": "bb76dace",
   "metadata": {
    "papermill": {
     "duration": 0.027358,
     "end_time": "2024-07-21T13:13:36.858110",
     "exception": false,
     "start_time": "2024-07-21T13:13:36.830752",
     "status": "completed"
    },
    "tags": []
   },
   "source": [
    "## Probability of survival for females is much higher than males"
   ]
  },
  {
   "cell_type": "code",
   "execution_count": 59,
   "id": "46b7100c",
   "metadata": {
    "execution": {
     "iopub.execute_input": "2024-07-21T13:13:36.917810Z",
     "iopub.status.busy": "2024-07-21T13:13:36.917378Z",
     "iopub.status.idle": "2024-07-21T13:13:37.272935Z",
     "shell.execute_reply": "2024-07-21T13:13:37.271650Z"
    },
    "papermill": {
     "duration": 0.389164,
     "end_time": "2024-07-21T13:13:37.275337",
     "exception": false,
     "start_time": "2024-07-21T13:13:36.886173",
     "status": "completed"
    },
    "tags": []
   },
   "outputs": [
    {
     "data": {
      "text/plain": [
       "<Axes: xlabel='Pclass', ylabel='count'>"
      ]
     },
     "execution_count": 59,
     "metadata": {},
     "output_type": "execute_result"
    },
    {
     "data": {
      "image/png": "[encoded data removed]",
      "text/plain": [
       "<Figure size 640x480 with 1 Axes>"
      ]
     },
     "metadata": {},
     "output_type": "display_data"
    }
   ],
   "source": [
    "sns.countplot(dataset, x='Pclass', hue='Sex')"
   ]
  },
  {
   "cell_type": "markdown",
   "id": "04ba843d",
   "metadata": {
    "papermill": {
     "duration": 0.028602,
     "end_time": "2024-07-21T13:13:37.332616",
     "exception": false,
     "start_time": "2024-07-21T13:13:37.304014",
     "status": "completed"
    },
    "tags": []
   },
   "source": [
    "## Percentage of females is much higher in class 1 and 2 than class 3"
   ]
  },
  {
   "cell_type": "code",
   "execution_count": null,
   "id": "68f7f417",
   "metadata": {
    "papermill": {
     "duration": 0.027837,
     "end_time": "2024-07-21T13:13:37.388667",
     "exception": false,
     "start_time": "2024-07-21T13:13:37.360830",
     "status": "completed"
    },
    "tags": []
   },
   "outputs": [],
   "source": []
  }
 ],
 "metadata": {
  "kaggle": {
   "accelerator": "none",
   "dataSources": [
    {
     "databundleVersionId": 26502,
     "sourceId": 3136,
     "sourceType": "competition"
    }
   ],
   "dockerImageVersionId": 30746,
   "isGpuEnabled": false,
   "isInternetEnabled": true,
   "language": "python",
   "sourceType": "notebook"
  },
  "kernelspec": {
   "display_name": "Python 3",
   "language": "python",
   "name": "python3"
  },
  "language_info": {
   "codemirror_mode": {
    "name": "ipython",
    "version": 3
   },
   "file_extension": ".py",
   "mimetype": "text/x-python",
   "name": "python",
   "nbconvert_exporter": "python",
   "pygments_lexer": "ipython3",
   "version": "3.10.13"
  },
  "papermill": {
   "default_parameters": {},
   "duration": 12.784123,
   "end_time": "2024-07-21T13:13:38.140066",
   "environment_variables": {},
   "exception": null,
   "input_path": "__notebook__.ipynb",
   "output_path": "__notebook__.ipynb",
   "parameters": {},
   "start_time": "2024-07-21T13:13:25.355943",
   "version": "2.5.0"
  }
 },
 "nbformat": 4,
 "nbformat_minor": 5
}
